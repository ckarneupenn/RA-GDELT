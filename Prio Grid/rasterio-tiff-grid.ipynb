{
 "cells": [
  {
   "cell_type": "markdown",
   "metadata": {},
   "source": [
    "This code transfers the raster Mining data to tabular form and calculate if each Prio Grid Area has the mining or not.\n",
    "\n",
    "Data source: \n",
    "1. Prio Grid Data: a standardized spatial grid structure with global coverage at a resolution of 0.5 x 0.5 decimal degrees, 55.5km x 55.5km, \n",
    "https://grid.prio.org/#/download\n",
    "\n",
    "2. GeoTiff Data: a 30 arc-minute resolution(approximately 55x55 km at the equator) data\n",
    "reference: https://doi.pangaea.de/10.1594/PANGAEA.910894"
   ]
  },
  {
   "cell_type": "code",
   "execution_count": null,
   "metadata": {},
   "outputs": [],
   "source": [
    "import rasterio\n",
    "import pandas as pd\n",
    "import rasterio.mask\n",
    "import numpy as np\n",
    "import matplotlib.pyplot as plt\n",
    "from rasterio.plot import show\n",
    "import geopandas as gpd\n",
    "\n",
    "pd.reset_option('display.float_format')\n",
    "np.set_printoptions(suppress=True)"
   ]
  },
  {
   "cell_type": "markdown",
   "metadata": {},
   "source": [
    "### 1 Read Data\n",
    "##### 1.1 Read Prio Grid Data"
   ]
  },
  {
   "cell_type": "code",
   "execution_count": 4,
   "metadata": {},
   "outputs": [
    {
     "name": "stdout",
     "output_type": "stream",
     "text": [
      "(259200, 6)\n"
     ]
    },
    {
     "data": {
      "text/html": [
       "<div>\n",
       "<style scoped>\n",
       "    .dataframe tbody tr th:only-of-type {\n",
       "        vertical-align: middle;\n",
       "    }\n",
       "\n",
       "    .dataframe tbody tr th {\n",
       "        vertical-align: top;\n",
       "    }\n",
       "\n",
       "    .dataframe thead th {\n",
       "        text-align: right;\n",
       "    }\n",
       "</style>\n",
       "<table border=\"1\" class=\"dataframe\">\n",
       "  <thead>\n",
       "    <tr style=\"text-align: right;\">\n",
       "      <th></th>\n",
       "      <th>gid</th>\n",
       "      <th>xcoord</th>\n",
       "      <th>ycoord</th>\n",
       "      <th>col</th>\n",
       "      <th>row</th>\n",
       "      <th>geometry</th>\n",
       "    </tr>\n",
       "  </thead>\n",
       "  <tbody>\n",
       "    <tr>\n",
       "      <th>0</th>\n",
       "      <td>259168</td>\n",
       "      <td>163.75</td>\n",
       "      <td>89.75</td>\n",
       "      <td>688</td>\n",
       "      <td>360</td>\n",
       "      <td>POLYGON ((163.50000 89.50000, 163.50000 90.000...</td>\n",
       "    </tr>\n",
       "    <tr>\n",
       "      <th>1</th>\n",
       "      <td>259169</td>\n",
       "      <td>164.25</td>\n",
       "      <td>89.75</td>\n",
       "      <td>689</td>\n",
       "      <td>360</td>\n",
       "      <td>POLYGON ((164.00000 89.50000, 164.00000 90.000...</td>\n",
       "    </tr>\n",
       "    <tr>\n",
       "      <th>2</th>\n",
       "      <td>259170</td>\n",
       "      <td>164.75</td>\n",
       "      <td>89.75</td>\n",
       "      <td>690</td>\n",
       "      <td>360</td>\n",
       "      <td>POLYGON ((164.50000 89.50000, 164.50000 90.000...</td>\n",
       "    </tr>\n",
       "    <tr>\n",
       "      <th>3</th>\n",
       "      <td>259171</td>\n",
       "      <td>165.25</td>\n",
       "      <td>89.75</td>\n",
       "      <td>691</td>\n",
       "      <td>360</td>\n",
       "      <td>POLYGON ((165.00000 89.50000, 165.00000 90.000...</td>\n",
       "    </tr>\n",
       "    <tr>\n",
       "      <th>4</th>\n",
       "      <td>259172</td>\n",
       "      <td>165.75</td>\n",
       "      <td>89.75</td>\n",
       "      <td>692</td>\n",
       "      <td>360</td>\n",
       "      <td>POLYGON ((165.50000 89.50000, 165.50000 90.000...</td>\n",
       "    </tr>\n",
       "  </tbody>\n",
       "</table>\n",
       "</div>"
      ],
      "text/plain": [
       "      gid  xcoord  ycoord  col  row  \\\n",
       "0  259168  163.75   89.75  688  360   \n",
       "1  259169  164.25   89.75  689  360   \n",
       "2  259170  164.75   89.75  690  360   \n",
       "3  259171  165.25   89.75  691  360   \n",
       "4  259172  165.75   89.75  692  360   \n",
       "\n",
       "                                            geometry  \n",
       "0  POLYGON ((163.50000 89.50000, 163.50000 90.000...  \n",
       "1  POLYGON ((164.00000 89.50000, 164.00000 90.000...  \n",
       "2  POLYGON ((164.50000 89.50000, 164.50000 90.000...  \n",
       "3  POLYGON ((165.00000 89.50000, 165.00000 90.000...  \n",
       "4  POLYGON ((165.50000 89.50000, 165.50000 90.000...  "
      ]
     },
     "execution_count": 4,
     "metadata": {},
     "output_type": "execute_result"
    }
   ],
   "source": [
    "prio_grid=gpd.read_file('priogrid_cellshp\\priogrid_cell.shp')\n",
    "print(prio_grid.shape)\n",
    "\n",
    "# xcoord, ycoord: the position of lower right corner in the grid cell\n",
    "prio_grid.head()"
   ]
  },
  {
   "cell_type": "markdown",
   "metadata": {},
   "source": [
    "##### 1.2 Read GeoTiff Data"
   ]
  },
  {
   "cell_type": "code",
   "execution_count": 5,
   "metadata": {},
   "outputs": [
    {
     "data": {
      "text/plain": [
       "<open DatasetReader name='Global_mining\\global_miningarea_v1_30arcminute.tif' mode='r'>"
      ]
     },
     "execution_count": 5,
     "metadata": {},
     "output_type": "execute_result"
    }
   ],
   "source": [
    "\n",
    "dataset=rasterio.open('Global_mining\\global_miningarea_v1_30arcminute.tif')\n",
    "dataset"
   ]
  },
  {
   "cell_type": "code",
   "execution_count": 6,
   "metadata": {},
   "outputs": [
    {
     "name": "stdout",
     "output_type": "stream",
     "text": [
      "EPSG:4326\n",
      "BoundingBox(left=-180.0, bottom=-90.0, right=180.0, top=90.0)\n",
      "(1,)\n",
      "| 0.50, 0.00,-180.00|\n",
      "| 0.00,-0.50, 90.00|\n",
      "| 0.00, 0.00, 1.00|\n",
      "1\n"
     ]
    }
   ],
   "source": [
    "# common info of GeoTiff\n",
    "print(dataset.crs)\n",
    "print(dataset.bounds)\n",
    "print(dataset.indexes)\n",
    "print(dataset.transform)\n",
    "print(dataset.count)"
   ]
  },
  {
   "cell_type": "markdown",
   "metadata": {},
   "source": [
    "### 2 Process GeoTiff Data"
   ]
  },
  {
   "cell_type": "code",
   "execution_count": 7,
   "metadata": {},
   "outputs": [
    {
     "data": {
      "text/plain": [
       "array([[-3.4e+38, -3.4e+38, -3.4e+38, ..., -3.4e+38, -3.4e+38, -3.4e+38],\n",
       "       [-3.4e+38, -3.4e+38, -3.4e+38, ..., -3.4e+38, -3.4e+38, -3.4e+38],\n",
       "       [-3.4e+38, -3.4e+38, -3.4e+38, ..., -3.4e+38, -3.4e+38, -3.4e+38],\n",
       "       ...,\n",
       "       [ 0.0e+00,  0.0e+00,  0.0e+00, ...,  0.0e+00,  0.0e+00,  0.0e+00],\n",
       "       [ 0.0e+00,  0.0e+00,  0.0e+00, ...,  0.0e+00,  0.0e+00,  0.0e+00],\n",
       "       [ 0.0e+00,  0.0e+00,  0.0e+00, ...,  0.0e+00,  0.0e+00,  0.0e+00]],\n",
       "      dtype=float32)"
      ]
     },
     "execution_count": 7,
     "metadata": {},
     "output_type": "execute_result"
    }
   ],
   "source": [
    "band_1=dataset.read(1)\n",
    "band_1\n"
   ]
  },
  {
   "cell_type": "code",
   "execution_count": 8,
   "metadata": {},
   "outputs": [
    {
     "data": {
      "text/plain": [
       "array([-3.4000000e+38,  0.0000000e+00,  5.7859165e-03, ...,\n",
       "        5.2166199e+02,  5.5259027e+02,  7.4645746e+02], dtype=float32)"
      ]
     },
     "execution_count": 8,
     "metadata": {},
     "output_type": "execute_result"
    }
   ],
   "source": [
    "np.unique(band_1).size\n",
    "np.sort(np.unique(band_1))"
   ]
  },
  {
   "cell_type": "code",
   "execution_count": 9,
   "metadata": {},
   "outputs": [
    {
     "data": {
      "text/plain": [
       "array([[1, 1, 1, ..., 1, 1, 1],\n",
       "       [1, 1, 1, ..., 1, 1, 1],\n",
       "       [1, 1, 1, ..., 1, 1, 1],\n",
       "       ...,\n",
       "       [1, 1, 1, ..., 1, 1, 1],\n",
       "       [1, 1, 1, ..., 1, 1, 1],\n",
       "       [1, 1, 1, ..., 1, 1, 1]])"
      ]
     },
     "execution_count": 9,
     "metadata": {},
     "output_type": "execute_result"
    }
   ],
   "source": [
    "# if value <=0, represent geographic info\n",
    "# if value >0, represent mining area\n",
    "tmp=band_1<= 0 \n",
    "tmp_2=tmp.astype(int)\n",
    "tmp_2"
   ]
  },
  {
   "cell_type": "code",
   "execution_count": 10,
   "metadata": {},
   "outputs": [
    {
     "data": {
      "image/png": "[encoded data removed]",
      "text/plain": [
       "<Figure size 432x288 with 1 Axes>"
      ]
     },
     "metadata": {
      "needs_background": "light"
     },
     "output_type": "display_data"
    },
    {
     "data": {
      "text/plain": [
       "<AxesSubplot:>"
      ]
     },
     "execution_count": 10,
     "metadata": {},
     "output_type": "execute_result"
    }
   ],
   "source": [
    "# visualization the raw data\n",
    "show(tmp_2,transform=dataset.transform)"
   ]
  },
  {
   "cell_type": "code",
   "execution_count": 11,
   "metadata": {},
   "outputs": [
    {
     "name": "stdout",
     "output_type": "stream",
     "text": [
      "(array([ 23,  29,  33, ..., 283, 285, 285], dtype=int64), array([388, 166, 190, ..., 215, 216, 217], dtype=int64))\n"
     ]
    }
   ],
   "source": [
    "# find the index of loc where is mining area\n",
    "xs, ys = np.where(tmp_2 == 0)\n",
    "print((xs,ys))"
   ]
  },
  {
   "cell_type": "code",
   "execution_count": 12,
   "metadata": {},
   "outputs": [
    {
     "name": "stdout",
     "output_type": "stream",
     "text": [
      "(3331, 3)\n"
     ]
    },
    {
     "data": {
      "text/html": [
       "<div>\n",
       "<style scoped>\n",
       "    .dataframe tbody tr th:only-of-type {\n",
       "        vertical-align: middle;\n",
       "    }\n",
       "\n",
       "    .dataframe tbody tr th {\n",
       "        vertical-align: top;\n",
       "    }\n",
       "\n",
       "    .dataframe thead th {\n",
       "        text-align: right;\n",
       "    }\n",
       "</style>\n",
       "<table border=\"1\" class=\"dataframe\">\n",
       "  <thead>\n",
       "    <tr style=\"text-align: right;\">\n",
       "      <th></th>\n",
       "      <th>x_cor</th>\n",
       "      <th>y_cor</th>\n",
       "      <th>mining_area</th>\n",
       "    </tr>\n",
       "  </thead>\n",
       "  <tbody>\n",
       "    <tr>\n",
       "      <th>0</th>\n",
       "      <td>14.25</td>\n",
       "      <td>78.25</td>\n",
       "      <td>1</td>\n",
       "    </tr>\n",
       "    <tr>\n",
       "      <th>1</th>\n",
       "      <td>-96.75</td>\n",
       "      <td>75.25</td>\n",
       "      <td>1</td>\n",
       "    </tr>\n",
       "    <tr>\n",
       "      <th>2</th>\n",
       "      <td>-84.75</td>\n",
       "      <td>73.25</td>\n",
       "      <td>1</td>\n",
       "    </tr>\n",
       "    <tr>\n",
       "      <th>3</th>\n",
       "      <td>-84.25</td>\n",
       "      <td>73.25</td>\n",
       "      <td>1</td>\n",
       "    </tr>\n",
       "    <tr>\n",
       "      <th>4</th>\n",
       "      <td>113.75</td>\n",
       "      <td>71.25</td>\n",
       "      <td>1</td>\n",
       "    </tr>\n",
       "  </tbody>\n",
       "</table>\n",
       "</div>"
      ],
      "text/plain": [
       "    x_cor  y_cor  mining_area\n",
       "0   14.25  78.25            1\n",
       "1  -96.75  75.25            1\n",
       "2  -84.75  73.25            1\n",
       "3  -84.25  73.25            1\n",
       "4  113.75  71.25            1"
      ]
     },
     "execution_count": 12,
     "metadata": {},
     "output_type": "execute_result"
    }
   ],
   "source": [
    "x_cor=[]\n",
    "y_cor=[]\n",
    "for x, y in zip(xs,ys):  \n",
    "    x_cor.append(dataset.xy(x, y)[0])\n",
    "    y_cor.append(dataset.xy(x, y)[1])\n",
    "\n",
    "d={'x_cor':x_cor,'y_cor':y_cor,'mining_area':1}   \n",
    "df=pd.DataFrame(data=d)\n",
    "print(df.shape)\n",
    "df.head()"
   ]
  },
  {
   "cell_type": "markdown",
   "metadata": {},
   "source": [
    "### 3 Create new variable mining area and calculate the mining bool value for each grid cell\n"
   ]
  },
  {
   "cell_type": "code",
   "execution_count": 13,
   "metadata": {},
   "outputs": [
    {
     "name": "stdout",
     "output_type": "stream",
     "text": [
      "(259200, 9)\n"
     ]
    },
    {
     "data": {
      "text/html": [
       "<div>\n",
       "<style scoped>\n",
       "    .dataframe tbody tr th:only-of-type {\n",
       "        vertical-align: middle;\n",
       "    }\n",
       "\n",
       "    .dataframe tbody tr th {\n",
       "        vertical-align: top;\n",
       "    }\n",
       "\n",
       "    .dataframe thead th {\n",
       "        text-align: right;\n",
       "    }\n",
       "</style>\n",
       "<table border=\"1\" class=\"dataframe\">\n",
       "  <thead>\n",
       "    <tr style=\"text-align: right;\">\n",
       "      <th></th>\n",
       "      <th>gid</th>\n",
       "      <th>xcoord</th>\n",
       "      <th>ycoord</th>\n",
       "      <th>col</th>\n",
       "      <th>row</th>\n",
       "      <th>geometry</th>\n",
       "      <th>x_cor</th>\n",
       "      <th>y_cor</th>\n",
       "      <th>mining_area</th>\n",
       "    </tr>\n",
       "  </thead>\n",
       "  <tbody>\n",
       "    <tr>\n",
       "      <th>0</th>\n",
       "      <td>259168</td>\n",
       "      <td>163.75</td>\n",
       "      <td>89.75</td>\n",
       "      <td>688</td>\n",
       "      <td>360</td>\n",
       "      <td>POLYGON ((163.50000 89.50000, 163.50000 90.000...</td>\n",
       "      <td>NaN</td>\n",
       "      <td>NaN</td>\n",
       "      <td>NaN</td>\n",
       "    </tr>\n",
       "    <tr>\n",
       "      <th>1</th>\n",
       "      <td>259169</td>\n",
       "      <td>164.25</td>\n",
       "      <td>89.75</td>\n",
       "      <td>689</td>\n",
       "      <td>360</td>\n",
       "      <td>POLYGON ((164.00000 89.50000, 164.00000 90.000...</td>\n",
       "      <td>NaN</td>\n",
       "      <td>NaN</td>\n",
       "      <td>NaN</td>\n",
       "    </tr>\n",
       "    <tr>\n",
       "      <th>2</th>\n",
       "      <td>259170</td>\n",
       "      <td>164.75</td>\n",
       "      <td>89.75</td>\n",
       "      <td>690</td>\n",
       "      <td>360</td>\n",
       "      <td>POLYGON ((164.50000 89.50000, 164.50000 90.000...</td>\n",
       "      <td>NaN</td>\n",
       "      <td>NaN</td>\n",
       "      <td>NaN</td>\n",
       "    </tr>\n",
       "    <tr>\n",
       "      <th>3</th>\n",
       "      <td>259171</td>\n",
       "      <td>165.25</td>\n",
       "      <td>89.75</td>\n",
       "      <td>691</td>\n",
       "      <td>360</td>\n",
       "      <td>POLYGON ((165.00000 89.50000, 165.00000 90.000...</td>\n",
       "      <td>NaN</td>\n",
       "      <td>NaN</td>\n",
       "      <td>NaN</td>\n",
       "    </tr>\n",
       "    <tr>\n",
       "      <th>4</th>\n",
       "      <td>259172</td>\n",
       "      <td>165.75</td>\n",
       "      <td>89.75</td>\n",
       "      <td>692</td>\n",
       "      <td>360</td>\n",
       "      <td>POLYGON ((165.50000 89.50000, 165.50000 90.000...</td>\n",
       "      <td>NaN</td>\n",
       "      <td>NaN</td>\n",
       "      <td>NaN</td>\n",
       "    </tr>\n",
       "  </tbody>\n",
       "</table>\n",
       "</div>"
      ],
      "text/plain": [
       "      gid  xcoord  ycoord  col  row  \\\n",
       "0  259168  163.75   89.75  688  360   \n",
       "1  259169  164.25   89.75  689  360   \n",
       "2  259170  164.75   89.75  690  360   \n",
       "3  259171  165.25   89.75  691  360   \n",
       "4  259172  165.75   89.75  692  360   \n",
       "\n",
       "                                            geometry  x_cor  y_cor  \\\n",
       "0  POLYGON ((163.50000 89.50000, 163.50000 90.000...    NaN    NaN   \n",
       "1  POLYGON ((164.00000 89.50000, 164.00000 90.000...    NaN    NaN   \n",
       "2  POLYGON ((164.50000 89.50000, 164.50000 90.000...    NaN    NaN   \n",
       "3  POLYGON ((165.00000 89.50000, 165.00000 90.000...    NaN    NaN   \n",
       "4  POLYGON ((165.50000 89.50000, 165.50000 90.000...    NaN    NaN   \n",
       "\n",
       "   mining_area  \n",
       "0          NaN  \n",
       "1          NaN  \n",
       "2          NaN  \n",
       "3          NaN  \n",
       "4          NaN  "
      ]
     },
     "execution_count": 13,
     "metadata": {},
     "output_type": "execute_result"
    }
   ],
   "source": [
    "prio_mining=prio_grid.merge(right=df, how='left',\n",
    "                    left_on=['xcoord','ycoord'],\n",
    "                    right_on=['x_cor','y_cor'])\n",
    "print(prio_mining.shape)\n",
    "prio_mining.head()"
   ]
  },
  {
   "cell_type": "code",
   "execution_count": 14,
   "metadata": {},
   "outputs": [
    {
     "name": "stdout",
     "output_type": "stream",
     "text": [
      "(259200, 5)\n"
     ]
    },
    {
     "data": {
      "text/html": [
       "<div>\n",
       "<style scoped>\n",
       "    .dataframe tbody tr th:only-of-type {\n",
       "        vertical-align: middle;\n",
       "    }\n",
       "\n",
       "    .dataframe tbody tr th {\n",
       "        vertical-align: top;\n",
       "    }\n",
       "\n",
       "    .dataframe thead th {\n",
       "        text-align: right;\n",
       "    }\n",
       "</style>\n",
       "<table border=\"1\" class=\"dataframe\">\n",
       "  <thead>\n",
       "    <tr style=\"text-align: right;\">\n",
       "      <th></th>\n",
       "      <th>gid</th>\n",
       "      <th>xcoord</th>\n",
       "      <th>ycoord</th>\n",
       "      <th>geometry</th>\n",
       "      <th>mining_area</th>\n",
       "    </tr>\n",
       "  </thead>\n",
       "  <tbody>\n",
       "    <tr>\n",
       "      <th>0</th>\n",
       "      <td>259168</td>\n",
       "      <td>163.75</td>\n",
       "      <td>89.75</td>\n",
       "      <td>POLYGON ((163.50000 89.50000, 163.50000 90.000...</td>\n",
       "      <td>0.0</td>\n",
       "    </tr>\n",
       "    <tr>\n",
       "      <th>1</th>\n",
       "      <td>259169</td>\n",
       "      <td>164.25</td>\n",
       "      <td>89.75</td>\n",
       "      <td>POLYGON ((164.00000 89.50000, 164.00000 90.000...</td>\n",
       "      <td>0.0</td>\n",
       "    </tr>\n",
       "    <tr>\n",
       "      <th>2</th>\n",
       "      <td>259170</td>\n",
       "      <td>164.75</td>\n",
       "      <td>89.75</td>\n",
       "      <td>POLYGON ((164.50000 89.50000, 164.50000 90.000...</td>\n",
       "      <td>0.0</td>\n",
       "    </tr>\n",
       "    <tr>\n",
       "      <th>3</th>\n",
       "      <td>259171</td>\n",
       "      <td>165.25</td>\n",
       "      <td>89.75</td>\n",
       "      <td>POLYGON ((165.00000 89.50000, 165.00000 90.000...</td>\n",
       "      <td>0.0</td>\n",
       "    </tr>\n",
       "    <tr>\n",
       "      <th>4</th>\n",
       "      <td>259172</td>\n",
       "      <td>165.75</td>\n",
       "      <td>89.75</td>\n",
       "      <td>POLYGON ((165.50000 89.50000, 165.50000 90.000...</td>\n",
       "      <td>0.0</td>\n",
       "    </tr>\n",
       "  </tbody>\n",
       "</table>\n",
       "</div>"
      ],
      "text/plain": [
       "      gid  xcoord  ycoord                                           geometry  \\\n",
       "0  259168  163.75   89.75  POLYGON ((163.50000 89.50000, 163.50000 90.000...   \n",
       "1  259169  164.25   89.75  POLYGON ((164.00000 89.50000, 164.00000 90.000...   \n",
       "2  259170  164.75   89.75  POLYGON ((164.50000 89.50000, 164.50000 90.000...   \n",
       "3  259171  165.25   89.75  POLYGON ((165.00000 89.50000, 165.00000 90.000...   \n",
       "4  259172  165.75   89.75  POLYGON ((165.50000 89.50000, 165.50000 90.000...   \n",
       "\n",
       "   mining_area  \n",
       "0          0.0  \n",
       "1          0.0  \n",
       "2          0.0  \n",
       "3          0.0  \n",
       "4          0.0  "
      ]
     },
     "execution_count": 14,
     "metadata": {},
     "output_type": "execute_result"
    }
   ],
   "source": [
    "# if mining_area = 0, this area doesn't have mining polygon\n",
    "# if mining area = 1, it has mining polygon\n",
    "mining_df=prio_mining.drop(columns=['col','row','x_cor','y_cor'])\n",
    "mining_df.replace(np.nan,0,inplace=True)\n",
    "print(mining_df.shape)\n",
    "mining_df.to_csv('mining_df.csv')\n",
    "mining_df.head()"
   ]
  },
  {
   "cell_type": "markdown",
   "metadata": {},
   "source": [
    "### 4 Validation"
   ]
  },
  {
   "cell_type": "code",
   "execution_count": 15,
   "metadata": {},
   "outputs": [
    {
     "data": {
      "text/plain": [
       "<AxesSubplot:>"
      ]
     },
     "execution_count": 15,
     "metadata": {},
     "output_type": "execute_result"
    },
    {
     "data": {
      "image/png": "[encoded data removed]",
      "text/plain": [
       "<Figure size 720x720 with 1 Axes>"
      ]
     },
     "metadata": {
      "needs_background": "light"
     },
     "output_type": "display_data"
    }
   ],
   "source": [
    "# visualize the final result data\n",
    "mining_gpd = gpd.GeoDataFrame(mining_df, geometry='geometry', crs=\"EPSG:4326\")\n",
    "fig, ax = plt.subplots(figsize=(10,10))\n",
    "mining_df.plot(ax=ax, column='mining_area')"
   ]
  }
 ],
 "metadata": {
  "kernelspec": {
   "display_name": "Python 3.8.10 ('py38')",
   "language": "python",
   "name": "python3"
  },
  "language_info": {
   "codemirror_mode": {
    "name": "ipython",
    "version": 3
   },
   "file_extension": ".py",
   "mimetype": "text/x-python",
   "name": "python",
   "nbconvert_exporter": "python",
   "pygments_lexer": "ipython3",
   "version": "3.8.10"
  },
  "orig_nbformat": 4,
  "vscode": {
   "interpreter": {
    "hash": "ed3b282340ef5cd0fa4fc1b9aec12891ed6e866a77d37d64ca582285d69e3b91"
   }
  }
 },
 "nbformat": 4,
 "nbformat_minor": 2
}
