{
 "cells": [
  {
   "cell_type": "markdown",
   "metadata": {},
   "source": [
    "This code：\n",
    "1. removes the country names in ORBIS data \n",
    "2. conducts fuzzy matching the company names in \"Organization\" column in ORBIS data by calculating the word similarity in GDELT data. Some companies' names are similar but not the same, this code helps them to figure out the exact company names\n",
    "\n"
   ]
  },
  {
   "cell_type": "code",
   "execution_count": 1,
   "metadata": {},
   "outputs": [],
   "source": [
    "import pandas as pd\n",
    "import numpy as np \n",
    "from cleanco import basename\n",
    "from sklearn.feature_extraction import text\n",
    "import pycountry\n",
    "from fuzzywuzzy import fuzz\n",
    "import py_stringsimjoin as ssj\n",
    "from difflib import SequenceMatcher\n",
    "from collections import Counter\n",
    "import string\n",
    "from cleanco import basename\n",
    "import regex as re\n",
    "import py_stringsimjoin as ssj\n",
    "import pandas as pd\n",
    "from fuzzywuzzy import fuzz\n",
    "import jellyfish\n",
    "import pyarrow as pa\n",
    "import string\n",
    "import unicodedata\n",
    "import regex as re\n",
    "import py_stringmatching as sm\n"
   ]
  },
  {
   "cell_type": "markdown",
   "metadata": {},
   "source": [
    "### 1. read data"
   ]
  },
  {
   "cell_type": "code",
   "execution_count": 14,
   "metadata": {},
   "outputs": [
    {
     "name": "stdout",
     "output_type": "stream",
     "text": [
      "debug: read Orbis data parquet successfully\n"
     ]
    }
   ],
   "source": [
    "\n",
    "ORBIS_INPUT = './input/NG_firm_names_lms.parquet' \n",
    "GDELT_INPUT = './input/Niger_GDELT_100.csv'\n",
    "indata_orbis = pd.read_parquet(ORBIS_INPUT).head(1000)\n",
    "indata_gdelt = pd.read_csv(GDELT_INPUT).head(100)\n",
    "\n",
    "print('debug: read Orbis data parquet successfully')\n",
    "\n"
   ]
  },
  {
   "cell_type": "code",
   "execution_count": 15,
   "metadata": {},
   "outputs": [
    {
     "data": {
      "text/html": [
       "<div>\n",
       "<style scoped>\n",
       "    .dataframe tbody tr th:only-of-type {\n",
       "        vertical-align: middle;\n",
       "    }\n",
       "\n",
       "    .dataframe tbody tr th {\n",
       "        vertical-align: top;\n",
       "    }\n",
       "\n",
       "    .dataframe thead th {\n",
       "        text-align: right;\n",
       "    }\n",
       "</style>\n",
       "<table border=\"1\" class=\"dataframe\">\n",
       "  <thead>\n",
       "    <tr style=\"text-align: right;\">\n",
       "      <th></th>\n",
       "      <th>bvdid</th>\n",
       "      <th>category_of_company</th>\n",
       "      <th>name_internat</th>\n",
       "      <th>name_native</th>\n",
       "      <th>ctryiso</th>\n",
       "    </tr>\n",
       "  </thead>\n",
       "  <tbody>\n",
       "    <tr>\n",
       "      <th>0</th>\n",
       "      <td>NG110012R</td>\n",
       "      <td>SMALL COMPANY</td>\n",
       "      <td>Bodion Nigeria Limited</td>\n",
       "      <td>Bodion Nigeria Limited</td>\n",
       "      <td>NG</td>\n",
       "    </tr>\n",
       "    <tr>\n",
       "      <th>1</th>\n",
       "      <td>NG110013R</td>\n",
       "      <td>SMALL COMPANY</td>\n",
       "      <td>Himak Construction Nigeria Limited</td>\n",
       "      <td>Himak Construction Nigeria Limited</td>\n",
       "      <td>NG</td>\n",
       "    </tr>\n",
       "    <tr>\n",
       "      <th>2</th>\n",
       "      <td>NG110014R</td>\n",
       "      <td>SMALL COMPANY</td>\n",
       "      <td>Commodity Trading Nig. Ltd</td>\n",
       "      <td>Commodity Trading Nig. Ltd</td>\n",
       "      <td>NG</td>\n",
       "    </tr>\n",
       "    <tr>\n",
       "      <th>3</th>\n",
       "      <td>NG110015R</td>\n",
       "      <td>SMALL COMPANY</td>\n",
       "      <td>Kolawole Ajayi Akinsulire Nig. Ltd</td>\n",
       "      <td>Kolawole Ajayi Akinsulire Nig. Ltd</td>\n",
       "      <td>NG</td>\n",
       "    </tr>\n",
       "    <tr>\n",
       "      <th>4</th>\n",
       "      <td>NG1100169R</td>\n",
       "      <td>SMALL COMPANY</td>\n",
       "      <td>A. K Building Limited</td>\n",
       "      <td>A. K Building Limited</td>\n",
       "      <td>NG</td>\n",
       "    </tr>\n",
       "  </tbody>\n",
       "</table>\n",
       "</div>"
      ],
      "text/plain": [
       "        bvdid category_of_company                       name_internat  \\\n",
       "0   NG110012R       SMALL COMPANY              Bodion Nigeria Limited   \n",
       "1   NG110013R       SMALL COMPANY  Himak Construction Nigeria Limited   \n",
       "2   NG110014R       SMALL COMPANY          Commodity Trading Nig. Ltd   \n",
       "3   NG110015R       SMALL COMPANY  Kolawole Ajayi Akinsulire Nig. Ltd   \n",
       "4  NG1100169R       SMALL COMPANY               A. K Building Limited   \n",
       "\n",
       "                          name_native ctryiso  \n",
       "0              Bodion Nigeria Limited      NG  \n",
       "1  Himak Construction Nigeria Limited      NG  \n",
       "2          Commodity Trading Nig. Ltd      NG  \n",
       "3  Kolawole Ajayi Akinsulire Nig. Ltd      NG  \n",
       "4               A. K Building Limited      NG  "
      ]
     },
     "execution_count": 15,
     "metadata": {},
     "output_type": "execute_result"
    }
   ],
   "source": [
    "indata_orbis.columns\n",
    "indata_orbis.head()"
   ]
  },
  {
   "cell_type": "markdown",
   "metadata": {},
   "source": [
    "### 2. process Orbis data"
   ]
  },
  {
   "cell_type": "code",
   "execution_count": 16,
   "metadata": {},
   "outputs": [
    {
     "data": {
      "text/html": [
       "<div>\n",
       "<style scoped>\n",
       "    .dataframe tbody tr th:only-of-type {\n",
       "        vertical-align: middle;\n",
       "    }\n",
       "\n",
       "    .dataframe tbody tr th {\n",
       "        vertical-align: top;\n",
       "    }\n",
       "\n",
       "    .dataframe thead th {\n",
       "        text-align: right;\n",
       "    }\n",
       "</style>\n",
       "<table border=\"1\" class=\"dataframe\">\n",
       "  <thead>\n",
       "    <tr style=\"text-align: right;\">\n",
       "      <th></th>\n",
       "      <th>name_original</th>\n",
       "      <th>name</th>\n",
       "    </tr>\n",
       "  </thead>\n",
       "  <tbody>\n",
       "    <tr>\n",
       "      <th>0</th>\n",
       "      <td>Bodion Nigeria Limited</td>\n",
       "      <td>bodion nigeria limited</td>\n",
       "    </tr>\n",
       "    <tr>\n",
       "      <th>1</th>\n",
       "      <td>Himak Construction Nigeria Limited</td>\n",
       "      <td>himak construction nigeria limited</td>\n",
       "    </tr>\n",
       "    <tr>\n",
       "      <th>2</th>\n",
       "      <td>Commodity Trading Nig. Ltd</td>\n",
       "      <td>commodity trading nig. ltd</td>\n",
       "    </tr>\n",
       "    <tr>\n",
       "      <th>3</th>\n",
       "      <td>Kolawole Ajayi Akinsulire Nig. Ltd</td>\n",
       "      <td>kolawole ajayi akinsulire nig. ltd</td>\n",
       "    </tr>\n",
       "    <tr>\n",
       "      <th>4</th>\n",
       "      <td>A. K Building Limited</td>\n",
       "      <td>a. k building limited</td>\n",
       "    </tr>\n",
       "  </tbody>\n",
       "</table>\n",
       "</div>"
      ],
      "text/plain": [
       "                        name_original                                name\n",
       "0              Bodion Nigeria Limited              bodion nigeria limited\n",
       "1  Himak Construction Nigeria Limited  himak construction nigeria limited\n",
       "2          Commodity Trading Nig. Ltd          commodity trading nig. ltd\n",
       "3  Kolawole Ajayi Akinsulire Nig. Ltd  kolawole ajayi akinsulire nig. ltd\n",
       "4               A. K Building Limited               a. k building limited"
      ]
     },
     "execution_count": 16,
     "metadata": {},
     "output_type": "execute_result"
    }
   ],
   "source": [
    "indata_orbis = indata_orbis.iloc[:,2:3].dropna()\n",
    "indata_orbis['name_original'] = indata_orbis['name_internat']\n",
    "indata_orbis['name'] = pd.DataFrame(indata_orbis['name_internat'].apply(str.lower))\n",
    "outdata_orbis = indata_orbis[['name_original', 'name']]\n",
    "outdata_orbis.head()\n",
    "# indata_orbis.head()"
   ]
  },
  {
   "cell_type": "code",
   "execution_count": 17,
   "metadata": {},
   "outputs": [],
   "source": [
    "stop = text.ENGLISH_STOP_WORDS\n",
    "\n",
    "def preprocess_nlp(row):\n",
    "        row = row.lower()\n",
    "        row = row.strip()\n",
    "        row = re.sub(r'\\(.*\\)', '', row)\n",
    "        row = row.translate(str .maketrans('', '', string.punctuation))\n",
    "        row =' '.join(row.split())\n",
    "        row = unicodedata.normalize('NFKD', row).encode('ASCII', 'ignore').decode()\n",
    "        row =  ' '.join(word.lower() for word in row.split() if word not in stop)\n",
    "        return row\n",
    "\n",
    "outdata_orbis['name_clean']=outdata_orbis['name'].apply(preprocess_nlp)\n",
    "\n",
    "outdata_orbis.to_csv('./output/orbis_list.csv')\n"
   ]
  },
  {
   "cell_type": "code",
   "execution_count": 18,
   "metadata": {},
   "outputs": [],
   "source": [
    "indata_gdelt = indata_gdelt[['organizations']].dropna()\n",
    "\n",
    "orgs_unextracted_gdelt = []\n",
    "\n",
    "for index, row in indata_gdelt.iterrows():\n",
    "    # row is a single-item list with a string surrounded\n",
    "    # by curly braces. Extract the single item and remove\n",
    "    # the surrounding curly braces.\n",
    "    orgs_unextracted_gdelt.append(row[0][1:-1])\n",
    "\n",
    "# The rows are json-like formatted strings that contain non-quoted\n",
    "# information which includes company names, each of which can be extracted \n",
    "# via regex and be treated as a subrow.\n",
    "orgs_extracted_gdelt = []\n",
    "\n",
    "# The rows are json-like formatted strings that contain non-quoted\n",
    "# information which includes company names, each of which can be extracted \n",
    "# via regex and be treated as a subrow.\n",
    "for row in orgs_unextracted_gdelt:\n",
    "    row = row.split('},')\n",
    "    for subrow in row:\n",
    "        match = re.findall(r'(?:n=)(.*)(?:,)', subrow)\n",
    "        orgs_extracted_gdelt.append(match[0])\n",
    "\n",
    "outdata_gdelt = pd.DataFrame(orgs_extracted_gdelt)\n",
    "outdata_gdelt.rename(columns={0: 'name_gdelt'}, inplace=True)\n",
    "outdata_gdelt['name_original'] = outdata_gdelt['name_gdelt']\n",
    "outdata_gdelt['name_gdelt']=outdata_gdelt['name_gdelt'].apply(preprocess_nlp)\n"
   ]
  },
  {
   "cell_type": "markdown",
   "metadata": {},
   "source": [
    "### 3. remove country names"
   ]
  },
  {
   "cell_type": "code",
   "execution_count": 19,
   "metadata": {},
   "outputs": [
    {
     "name": "stdout",
     "output_type": "stream",
     "text": [
      "debug: country names have been removed ------------------\n"
     ]
    }
   ],
   "source": [
    "file = open(\"./input/country_spellings.txt\")\n",
    "lines = file.readlines()\n",
    "\n",
    "country_ls=[]\n",
    "for l in lines:\n",
    "    line=l.strip()\n",
    "    line_2=line.replace('\"',\"\")\n",
    "    pat = re.compile(\"sname(?:==|:)(.*?);\")\n",
    "    # print(line_2)\n",
    "    for i in pat.findall(line_2):\n",
    "        country_ls.append(i.lower())\n",
    "    # break\n",
    "\n",
    "\n",
    "for i in pycountry.countries:\n",
    "    country_ls.append(i.alpha_2.lower())\n",
    "    country_ls.append(i.alpha_3.lower())\n",
    "    country_ls.append(i.name.lower())\n",
    "len(country_ls)\n",
    "\n",
    "country_ls.sort(reverse=True)\n",
    "country_df=pd.DataFrame(data=country_ls,columns=['country_name'])\n",
    "country_df.drop_duplicates(subset ='country_name',inplace=True)\n",
    "\n",
    "outdata_gdelt=outdata_gdelt[~outdata_gdelt['name_gdelt'].isin(country_df['country_name'])]\n",
    "print('debug: country names have been removed ------------------')\n",
    "outdata_gdelt[outdata_gdelt['name_gdelt'].isin(country_df['country_name'])].to_csv('./output/removed_country_name.csv')\n"
   ]
  },
  {
   "cell_type": "code",
   "execution_count": 20,
   "metadata": {},
   "outputs": [],
   "source": [
    "outdata_orbis.reset_index(inplace=True)\n",
    "outdata_gdelt.reset_index(inplace=True)"
   ]
  },
  {
   "cell_type": "markdown",
   "metadata": {},
   "source": [
    "### 4. Join 2 tables using various similarity measure\n"
   ]
  },
  {
   "cell_type": "code",
   "execution_count": 23,
   "metadata": {},
   "outputs": [
    {
     "name": "stderr",
     "output_type": "stream",
     "text": [
      "c:\\ProgramData\\Miniconda3\\envs\\geo\\lib\\site-packages\\py_stringsimjoin\\utils\\generic_helper.py:76: FutureWarning: In a future version of pandas all arguments of DataFrame.dropna will be keyword-only.\n",
      "  projected_dataframe = dataframe[proj_attrs].dropna(0,\n",
      "c:\\ProgramData\\Miniconda3\\envs\\geo\\lib\\site-packages\\py_stringsimjoin\\utils\\generic_helper.py:76: FutureWarning: In a future version of pandas all arguments of DataFrame.dropna will be keyword-only.\n",
      "  projected_dataframe = dataframe[proj_attrs].dropna(0,\n",
      "c:\\ProgramData\\Miniconda3\\envs\\geo\\lib\\site-packages\\py_stringsimjoin\\utils\\generic_helper.py:76: FutureWarning: In a future version of pandas all arguments of DataFrame.dropna will be keyword-only.\n",
      "  projected_dataframe = dataframe[proj_attrs].dropna(0,\n",
      "c:\\ProgramData\\Miniconda3\\envs\\geo\\lib\\site-packages\\py_stringsimjoin\\utils\\generic_helper.py:76: FutureWarning: In a future version of pandas all arguments of DataFrame.dropna will be keyword-only.\n",
      "  projected_dataframe = dataframe[proj_attrs].dropna(0,\n",
      "c:\\ProgramData\\Miniconda3\\envs\\geo\\lib\\site-packages\\py_stringsimjoin\\utils\\generic_helper.py:76: FutureWarning: In a future version of pandas all arguments of DataFrame.dropna will be keyword-only.\n",
      "  projected_dataframe = dataframe[proj_attrs].dropna(0,\n",
      "c:\\ProgramData\\Miniconda3\\envs\\geo\\lib\\site-packages\\py_stringsimjoin\\utils\\generic_helper.py:76: FutureWarning: In a future version of pandas all arguments of DataFrame.dropna will be keyword-only.\n",
      "  projected_dataframe = dataframe[proj_attrs].dropna(0,\n",
      "c:\\ProgramData\\Miniconda3\\envs\\geo\\lib\\site-packages\\py_stringsimjoin\\utils\\generic_helper.py:76: FutureWarning: In a future version of pandas all arguments of DataFrame.dropna will be keyword-only.\n",
      "  projected_dataframe = dataframe[proj_attrs].dropna(0,\n",
      "c:\\ProgramData\\Miniconda3\\envs\\geo\\lib\\site-packages\\py_stringsimjoin\\utils\\generic_helper.py:76: FutureWarning: In a future version of pandas all arguments of DataFrame.dropna will be keyword-only.\n",
      "  projected_dataframe = dataframe[proj_attrs].dropna(0,\n",
      "c:\\ProgramData\\Miniconda3\\envs\\geo\\lib\\site-packages\\py_stringsimjoin\\utils\\generic_helper.py:76: FutureWarning: In a future version of pandas all arguments of DataFrame.dropna will be keyword-only.\n",
      "  projected_dataframe = dataframe[proj_attrs].dropna(0,\n",
      "c:\\ProgramData\\Miniconda3\\envs\\geo\\lib\\site-packages\\py_stringsimjoin\\utils\\generic_helper.py:76: FutureWarning: In a future version of pandas all arguments of DataFrame.dropna will be keyword-only.\n",
      "  projected_dataframe = dataframe[proj_attrs].dropna(0,\n",
      "c:\\ProgramData\\Miniconda3\\envs\\geo\\lib\\site-packages\\py_stringsimjoin\\utils\\generic_helper.py:76: FutureWarning: In a future version of pandas all arguments of DataFrame.dropna will be keyword-only.\n",
      "  projected_dataframe = dataframe[proj_attrs].dropna(0,\n",
      "c:\\ProgramData\\Miniconda3\\envs\\geo\\lib\\site-packages\\py_stringsimjoin\\utils\\generic_helper.py:76: FutureWarning: In a future version of pandas all arguments of DataFrame.dropna will be keyword-only.\n",
      "  projected_dataframe = dataframe[proj_attrs].dropna(0,\n",
      "C:\\Users\\hp\\AppData\\Local\\Temp\\ipykernel_21872\\3871543273.py:58: FutureWarning: In a future version of pandas all arguments of DataFrame.drop except for the argument 'labels' will be keyword-only.\n",
      "  master_list = pd.merge(outdata_gdelt, outdata_orbis, on='key').drop('key', 1)\n"
     ]
    }
   ],
   "source": [
    "ws = sm.WhitespaceTokenizer(return_set=True)\n",
    "\n",
    "# distance join\n",
    "output_pairs_distance_join = ssj.edit_distance_join(outdata_orbis, outdata_gdelt,\n",
    "                                      'index', 'index', \n",
    "                                      'name_clean', 'name_gdelt', \n",
    "                                      50,\n",
    "                                      l_out_attrs=['name_clean'], \n",
    "                                      r_out_attrs=['name_gdelt'],\n",
    "                                      n_jobs =-1)\n",
    "\n",
    "# Jaccard Join \n",
    "output_pairs_jaccard_join = ssj.jaccard_join(outdata_orbis, outdata_gdelt, \n",
    "                                             'index', 'index', \n",
    "                                             'name_clean', 'name_gdelt', \n",
    "                                             ws, 0.1, \n",
    "                                             l_out_attrs=['name_clean'], \n",
    "                                             r_out_attrs=['name_gdelt'],\n",
    "                                             n_jobs=-1)\n",
    "# Cosine Join \n",
    "output_pairs_cosine_join = ssj.cosine_join(outdata_orbis, outdata_gdelt, \n",
    "                                             'index', 'index', \n",
    "                                             'name_clean', 'name_gdelt', \n",
    "                                             ws, 0.1, \n",
    "                                             l_out_attrs=['name_clean'], \n",
    "                                             r_out_attrs=['name_gdelt'],\n",
    "                                             n_jobs=-1)\n",
    "# Dice Join \n",
    "output_pairs_dice_join = ssj.dice_join(outdata_orbis, outdata_gdelt, \n",
    "                                             'index', 'index', \n",
    "                                             'name_clean', 'name_gdelt', \n",
    "                                             ws, 0.1, \n",
    "                                             l_out_attrs=['name_clean'], \n",
    "                                             r_out_attrs=['name_gdelt'],\n",
    "                                             n_jobs=-1)\n",
    "\n",
    " # overlap join \n",
    "output_pairs_overlap_join = ssj.overlap_join(outdata_orbis, outdata_gdelt, \n",
    "                                             'index', 'index', \n",
    "                                             'name_clean', 'name_gdelt', \n",
    "                                             ws, 0.1, \n",
    "                                             l_out_attrs=['name_clean'], \n",
    "                                             r_out_attrs=['name_gdelt'],\n",
    "                                             n_jobs=-1)\n",
    "# overlap coefficient join \n",
    "output_pairs_overlap_coefficient_join = ssj.overlap_coefficient_join(outdata_orbis, outdata_gdelt, \n",
    "                                             'index', 'index', \n",
    "                                             'name_clean', 'name_gdelt', \n",
    "                                             ws, 0.1, \n",
    "                                             l_out_attrs=['name_clean'], \n",
    "                                             r_out_attrs=['name_gdelt'],\n",
    "                                             n_jobs=-1)\n",
    "# master list\n",
    "# To cross join, merge on a temporary key and then drop it.\n",
    "outdata_gdelt['key'] = 1\n",
    "outdata_orbis['key'] = 1\n",
    "\n",
    "master_list = pd.merge(outdata_gdelt, outdata_orbis, on='key').drop('key', 1)\n",
    "master_list.rename(columns={'name_x': 'name_gdelt', \n",
    "                             'name_original_x': 'name_original_gdelt', \n",
    "                             'name': 'name_orbis', \n",
    "                             'name_clean': 'name_clean_orbis', \n",
    "                             'name_original_y': 'name_original_orbis'}, \n",
    "                    inplace=True)\n",
    "master_list.to_csv('./output/master_list.csv')"
   ]
  },
  {
   "cell_type": "code",
   "execution_count": 24,
   "metadata": {},
   "outputs": [
    {
     "data": {
      "text/plain": [
       "'Match processing will take some time...'"
      ]
     },
     "metadata": {},
     "output_type": "display_data"
    },
    {
     "data": {
      "text/plain": [
       "'749000 rows...'"
      ]
     },
     "metadata": {},
     "output_type": "display_data"
    },
    {
     "data": {
      "text/plain": [
       "'Calculating fuzz ratio for names...'"
      ]
     },
     "metadata": {},
     "output_type": "display_data"
    },
    {
     "name": "stderr",
     "output_type": "stream",
     "text": [
      "100%|██████████| 749000/749000 [00:53<00:00, 14127.29it/s]\n"
     ]
    },
    {
     "data": {
      "text/plain": [
       "'Calculating fuzz partial ratio for names...'"
      ]
     },
     "metadata": {},
     "output_type": "display_data"
    },
    {
     "name": "stderr",
     "output_type": "stream",
     "text": [
      "100%|██████████| 749000/749000 [01:24<00:00, 8874.40it/s] \n"
     ]
    },
    {
     "data": {
      "text/plain": [
       "'Calculating token sort ratio for names...'"
      ]
     },
     "metadata": {},
     "output_type": "display_data"
    },
    {
     "name": "stderr",
     "output_type": "stream",
     "text": [
      "100%|██████████| 749000/749000 [01:07<00:00, 11031.59it/s]\n"
     ]
    },
    {
     "data": {
      "text/plain": [
       "'Calculating jaro distance for names...'"
      ]
     },
     "metadata": {},
     "output_type": "display_data"
    },
    {
     "name": "stderr",
     "output_type": "stream",
     "text": [
      "100%|██████████| 749000/749000 [00:43<00:00, 17027.22it/s]\n"
     ]
    },
    {
     "data": {
      "text/plain": [
       "'Generating metaphones for uncleaned orbis names...'"
      ]
     },
     "metadata": {},
     "output_type": "display_data"
    },
    {
     "name": "stderr",
     "output_type": "stream",
     "text": [
      "100%|██████████| 749000/749000 [00:06<00:00, 118194.12it/s]\n"
     ]
    },
    {
     "data": {
      "text/plain": [
       "'Generating metaphones for cleaned orbis names...'"
      ]
     },
     "metadata": {},
     "output_type": "display_data"
    },
    {
     "name": "stderr",
     "output_type": "stream",
     "text": [
      "100%|██████████| 749000/749000 [00:06<00:00, 122101.14it/s]\n"
     ]
    },
    {
     "data": {
      "text/plain": [
       "'Generating metaphones for gdelt names...'"
      ]
     },
     "metadata": {},
     "output_type": "display_data"
    },
    {
     "name": "stderr",
     "output_type": "stream",
     "text": [
      "100%|██████████| 749000/749000 [00:05<00:00, 143143.34it/s]\n"
     ]
    },
    {
     "data": {
      "text/plain": [
       "'Calculating fuzz ratio for metaphones...'"
      ]
     },
     "metadata": {},
     "output_type": "display_data"
    },
    {
     "name": "stderr",
     "output_type": "stream",
     "text": [
      "100%|██████████| 749000/749000 [00:48<00:00, 15416.09it/s]\n"
     ]
    },
    {
     "data": {
      "text/plain": [
       "'Calculating fuzz partial ratio for metaphones...'"
      ]
     },
     "metadata": {},
     "output_type": "display_data"
    },
    {
     "name": "stderr",
     "output_type": "stream",
     "text": [
      "100%|██████████| 749000/749000 [01:10<00:00, 10663.27it/s]\n"
     ]
    },
    {
     "data": {
      "text/plain": [
       "'Calculating token sort ratio for metaphones...'"
      ]
     },
     "metadata": {},
     "output_type": "display_data"
    },
    {
     "name": "stderr",
     "output_type": "stream",
     "text": [
      "100%|██████████| 749000/749000 [01:04<00:00, 11551.92it/s]\n"
     ]
    },
    {
     "data": {
      "text/plain": [
       "'Calculating jaro distance for metaphones...'"
      ]
     },
     "metadata": {},
     "output_type": "display_data"
    },
    {
     "name": "stderr",
     "output_type": "stream",
     "text": [
      "100%|██████████| 749000/749000 [00:44<00:00, 16928.52it/s]\n"
     ]
    },
    {
     "data": {
      "text/plain": [
       "'Done.'"
      ]
     },
     "metadata": {},
     "output_type": "display_data"
    }
   ],
   "source": [
    "try:\n",
    "    data = master_list\n",
    "except:\n",
    "    data = pd.read_csv('./output/master_list.csv')\n",
    "    data.drop(columns='Unnamed: 0', inplace=True)\n",
    "    \n",
    "data = data.dropna() # To prevent errors processing matches.\n",
    "# Get matches of names as well as meta information.\n",
    "# This is where the heavy lifting happens.\n",
    "\n",
    "display('Match processing will take some time...')\n",
    "display(str(len(data)) + ' rows...')\n",
    "\n",
    "# !pip install tqdm\n",
    "from tqdm import tqdm\n",
    "tqdm.pandas() # Introduces pd.apply_progress() for progress bars.\n",
    "\n",
    "# Name comparisons. Run an apply() on two columns.\n",
    "display('Calculating fuzz ratio for names...')\n",
    "data['fuzz_ratio'] = data.progress_apply(lambda x: fuzz.ratio(x.name_gdelt, x.name_clean_orbis), axis=1)\n",
    "display('Calculating fuzz partial ratio for names...')\n",
    "data['fuzz_partial_ratio'] = data.progress_apply(lambda x: fuzz.partial_ratio(x.name_gdelt, x.name_clean_orbis), axis=1)\n",
    "display('Calculating token sort ratio for names...')\n",
    "data['fuzz_token_sort_ratio'] = data.progress_apply(lambda x: fuzz.token_sort_ratio(x.name_gdelt, x.name_clean_orbis), axis=1)\n",
    "display('Calculating jaro distance for names...')\n",
    "data['jaro_distance'] = data.progress_apply(lambda x: jellyfish.jaro_distance(x.name_gdelt, x.name_clean_orbis), axis=1)\n",
    "\n",
    "# Metaphone generation.\n",
    "display('Generating metaphones for uncleaned orbis names...')\n",
    "data['metaphone_unclean_orbis'] = data['name_orbis'].progress_apply(jellyfish.metaphone)\n",
    "display('Generating metaphones for cleaned orbis names...')\n",
    "data['metaphone_clean_orbis'] = data['name_clean_orbis'].progress_apply(jellyfish.metaphone)\n",
    "display('Generating metaphones for gdelt names...')\n",
    "data['metaphone_gdelt'] = data['name_gdelt'].progress_apply(jellyfish.metaphone)\n",
    "\n",
    "# Metaphone comparisons. Run an apply() on two columns.\n",
    "display('Calculating fuzz ratio for metaphones...')\n",
    "data['metaphone_fuzz_ratio'] = data.progress_apply(lambda x: fuzz.ratio(x.metaphone_gdelt, x.metaphone_clean_orbis), axis=1)\n",
    "display('Calculating fuzz partial ratio for metaphones...')\n",
    "data['metaphone_fuzz_partial_ratio'] = data.progress_apply(lambda x: fuzz.partial_ratio(x.metaphone_gdelt, x.metaphone_clean_orbis), axis=1)\n",
    "display('Calculating token sort ratio for metaphones...')\n",
    "data['metaphone_fuzz_token_sort_ratio'] = data.progress_apply(lambda x: fuzz.token_sort_ratio(x.metaphone_gdelt, x.metaphone_clean_orbis), axis=1)\n",
    "display('Calculating jaro distance for metaphones...')\n",
    "data['metaphone_jaro_distance'] = data.progress_apply(lambda x: jellyfish.jaro_distance(x.metaphone_gdelt, x.metaphone_clean_orbis), axis=1)\n",
    "\n",
    "display('Done.')"
   ]
  },
  {
   "cell_type": "code",
   "execution_count": 25,
   "metadata": {},
   "outputs": [
    {
     "name": "stderr",
     "output_type": "stream",
     "text": [
      "C:\\Users\\hp\\AppData\\Local\\Temp\\ipykernel_21872\\303291486.py:31: FutureWarning: Passing 'suffixes' which cause duplicate columns {'r_name_gdelt_x', 'r_index_x', 'l_index_x', 'l_name_clean_x', '_id_x'} in the result is deprecated and will raise a MergeError in a future version.\n",
      "  data = pd.merge(data,\n",
      "C:\\Users\\hp\\AppData\\Local\\Temp\\ipykernel_21872\\303291486.py:47: FutureWarning: Passing 'suffixes' which cause duplicate columns {'r_name_gdelt_x', 'r_index_x', 'l_index_x', 'l_name_clean_x', '_id_x'} in the result is deprecated and will raise a MergeError in a future version.\n",
      "  data = pd.merge(data,\n"
     ]
    }
   ],
   "source": [
    "\n",
    "#### py_stringsimjoin\n",
    "# Edit distance join\n",
    "data = pd.merge(data, \n",
    "                output_pairs_distance_join, \n",
    "                how='outer', \n",
    "                left_on=['index_x', 'index_y'], \n",
    "                right_on=['r_index', 'l_index'])\n",
    "\n",
    "data.rename(columns={'_sim_score': 'sim_score_distance'}, inplace=True)\n",
    "\n",
    "#### py_stringmatching\n",
    "# Jaccard join\n",
    "data = pd.merge(data, \n",
    "                output_pairs_jaccard_join, \n",
    "                how='outer', \n",
    "                left_on=['index_x', 'index_y'], \n",
    "                right_on=['r_index', 'l_index'])\n",
    "\n",
    "data.rename(columns={'_sim_score': 'sim_score_jaccard'}, inplace=True)\n",
    "\n",
    "# Cosine Join \n",
    "data = pd.merge(data, \n",
    "                output_pairs_cosine_join, \n",
    "                how='outer', \n",
    "                left_on=['index_x', 'index_y'], \n",
    "                right_on=['r_index', 'l_index'])\n",
    "\n",
    "data.rename(columns={'_sim_score': 'sim_score_cosine'}, inplace=True)\n",
    "\n",
    "# Dice Join \n",
    "data = pd.merge(data, \n",
    "                output_pairs_dice_join, \n",
    "                how='outer', \n",
    "                left_on=['index_x', 'index_y'], \n",
    "                right_on=['r_index', 'l_index'])\n",
    "\n",
    "data.rename(columns={'_sim_score': 'sim_score_dice'}, inplace=True)\n",
    "\n",
    "data = pd.merge(data, output_pairs_overlap_join, \n",
    "                how='outer', \n",
    "                left_on=['index_x', 'index_y'], \n",
    "                right_on=['r_index', 'l_index'])\n",
    "\n",
    "data.rename(columns={'_sim_score': 'sim_score_overlap'}, inplace=True)\n",
    "\n",
    "# Overlap coefficient join \n",
    "data = pd.merge(data, \n",
    "                output_pairs_overlap_coefficient_join, \n",
    "                how='outer', \n",
    "                left_on=['index_x', 'index_y'], \n",
    "                right_on=['r_index', 'l_index'])\n",
    "\n",
    "data.rename(columns={'_sim_score': 'sim_score_overlap_coefficient'}, inplace=True)\n",
    "\n",
    "data.to_csv('./output/matches_raw.csv')\n"
   ]
  },
  {
   "cell_type": "code",
   "execution_count": 26,
   "metadata": {},
   "outputs": [
    {
     "data": {
      "text/html": [
       "<div>\n",
       "<style scoped>\n",
       "    .dataframe tbody tr th:only-of-type {\n",
       "        vertical-align: middle;\n",
       "    }\n",
       "\n",
       "    .dataframe tbody tr th {\n",
       "        vertical-align: top;\n",
       "    }\n",
       "\n",
       "    .dataframe thead th {\n",
       "        text-align: right;\n",
       "    }\n",
       "</style>\n",
       "<table border=\"1\" class=\"dataframe\">\n",
       "  <thead>\n",
       "    <tr style=\"text-align: right;\">\n",
       "      <th></th>\n",
       "      <th></th>\n",
       "      <th>index_x</th>\n",
       "      <th>name_gdelt</th>\n",
       "      <th>index_y</th>\n",
       "      <th>name_orbis</th>\n",
       "      <th>name_clean_orbis</th>\n",
       "      <th>fuzz_ratio</th>\n",
       "      <th>fuzz_partial_ratio</th>\n",
       "      <th>fuzz_token_sort_ratio</th>\n",
       "      <th>jaro_distance</th>\n",
       "      <th>metaphone_unclean_orbis</th>\n",
       "      <th>...</th>\n",
       "      <th>r_index_x</th>\n",
       "      <th>l_name_clean_x</th>\n",
       "      <th>r_name_gdelt_x</th>\n",
       "      <th>sim_score_overlap</th>\n",
       "      <th>_id_y</th>\n",
       "      <th>l_index_y</th>\n",
       "      <th>r_index_y</th>\n",
       "      <th>l_name_clean_y</th>\n",
       "      <th>r_name_gdelt_y</th>\n",
       "      <th>sim_score_overlap_coefficient</th>\n",
       "    </tr>\n",
       "    <tr>\n",
       "      <th>name_original_orbis</th>\n",
       "      <th>name_original_gdelt</th>\n",
       "      <th></th>\n",
       "      <th></th>\n",
       "      <th></th>\n",
       "      <th></th>\n",
       "      <th></th>\n",
       "      <th></th>\n",
       "      <th></th>\n",
       "      <th></th>\n",
       "      <th></th>\n",
       "      <th></th>\n",
       "      <th></th>\n",
       "      <th></th>\n",
       "      <th></th>\n",
       "      <th></th>\n",
       "      <th></th>\n",
       "      <th></th>\n",
       "      <th></th>\n",
       "      <th></th>\n",
       "      <th></th>\n",
       "      <th></th>\n",
       "      <th></th>\n",
       "    </tr>\n",
       "  </thead>\n",
       "  <tbody>\n",
       "    <tr>\n",
       "      <th rowspan=\"5\" valign=\"top\">A &amp; A Super Market Limited</th>\n",
       "      <th>Absa Bank Ltd</th>\n",
       "      <td>273</td>\n",
       "      <td>absa bank</td>\n",
       "      <td>230</td>\n",
       "      <td>a &amp; a super market limited</td>\n",
       "      <td>super market limited</td>\n",
       "      <td>28</td>\n",
       "      <td>33</td>\n",
       "      <td>21</td>\n",
       "      <td>0.464815</td>\n",
       "      <td>A  A SPR MRKT LMTT</td>\n",
       "      <td>...</td>\n",
       "      <td>NaN</td>\n",
       "      <td>NaN</td>\n",
       "      <td>NaN</td>\n",
       "      <td>NaN</td>\n",
       "      <td>NaN</td>\n",
       "      <td>NaN</td>\n",
       "      <td>NaN</td>\n",
       "      <td>NaN</td>\n",
       "      <td>NaN</td>\n",
       "      <td>NaN</td>\n",
       "    </tr>\n",
       "    <tr>\n",
       "      <th>Absa Group</th>\n",
       "      <td>259</td>\n",
       "      <td>absa group</td>\n",
       "      <td>230</td>\n",
       "      <td>a &amp; a super market limited</td>\n",
       "      <td>super market limited</td>\n",
       "      <td>20</td>\n",
       "      <td>20</td>\n",
       "      <td>27</td>\n",
       "      <td>0.522222</td>\n",
       "      <td>A  A SPR MRKT LMTT</td>\n",
       "      <td>...</td>\n",
       "      <td>NaN</td>\n",
       "      <td>NaN</td>\n",
       "      <td>NaN</td>\n",
       "      <td>NaN</td>\n",
       "      <td>NaN</td>\n",
       "      <td>NaN</td>\n",
       "      <td>NaN</td>\n",
       "      <td>NaN</td>\n",
       "      <td>NaN</td>\n",
       "      <td>NaN</td>\n",
       "    </tr>\n",
       "    <tr>\n",
       "      <th>Afghanistan Analysts Network</th>\n",
       "      <td>232</td>\n",
       "      <td>afghanistan analysts network</td>\n",
       "      <td>230</td>\n",
       "      <td>a &amp; a super market limited</td>\n",
       "      <td>super market limited</td>\n",
       "      <td>25</td>\n",
       "      <td>30</td>\n",
       "      <td>33</td>\n",
       "      <td>0.442328</td>\n",
       "      <td>A  A SPR MRKT LMTT</td>\n",
       "      <td>...</td>\n",
       "      <td>NaN</td>\n",
       "      <td>NaN</td>\n",
       "      <td>NaN</td>\n",
       "      <td>NaN</td>\n",
       "      <td>NaN</td>\n",
       "      <td>NaN</td>\n",
       "      <td>NaN</td>\n",
       "      <td>NaN</td>\n",
       "      <td>NaN</td>\n",
       "      <td>NaN</td>\n",
       "    </tr>\n",
       "    <tr>\n",
       "      <th>Africa Center</th>\n",
       "      <td>51</td>\n",
       "      <td>africa center</td>\n",
       "      <td>230</td>\n",
       "      <td>a &amp; a super market limited</td>\n",
       "      <td>super market limited</td>\n",
       "      <td>30</td>\n",
       "      <td>38</td>\n",
       "      <td>36</td>\n",
       "      <td>0.534249</td>\n",
       "      <td>A  A SPR MRKT LMTT</td>\n",
       "      <td>...</td>\n",
       "      <td>NaN</td>\n",
       "      <td>NaN</td>\n",
       "      <td>NaN</td>\n",
       "      <td>NaN</td>\n",
       "      <td>NaN</td>\n",
       "      <td>NaN</td>\n",
       "      <td>NaN</td>\n",
       "      <td>NaN</td>\n",
       "      <td>NaN</td>\n",
       "      <td>NaN</td>\n",
       "    </tr>\n",
       "    <tr>\n",
       "      <th>Africa Department Of International Relations</th>\n",
       "      <td>14</td>\n",
       "      <td>africa department international relations</td>\n",
       "      <td>230</td>\n",
       "      <td>a &amp; a super market limited</td>\n",
       "      <td>super market limited</td>\n",
       "      <td>33</td>\n",
       "      <td>45</td>\n",
       "      <td>33</td>\n",
       "      <td>0.605081</td>\n",
       "      <td>A  A SPR MRKT LMTT</td>\n",
       "      <td>...</td>\n",
       "      <td>NaN</td>\n",
       "      <td>NaN</td>\n",
       "      <td>NaN</td>\n",
       "      <td>NaN</td>\n",
       "      <td>NaN</td>\n",
       "      <td>NaN</td>\n",
       "      <td>NaN</td>\n",
       "      <td>NaN</td>\n",
       "      <td>NaN</td>\n",
       "      <td>NaN</td>\n",
       "    </tr>\n",
       "  </tbody>\n",
       "</table>\n",
       "<p>5 rows × 52 columns</p>\n",
       "</div>"
      ],
      "text/plain": [
       "                                                                         index_x  \\\n",
       "name_original_orbis        name_original_gdelt                                     \n",
       "A & A Super Market Limited Absa Bank Ltd                                     273   \n",
       "                           Absa Group                                        259   \n",
       "                           Afghanistan Analysts Network                      232   \n",
       "                           Africa Center                                      51   \n",
       "                           Africa Department Of International Relations       14   \n",
       "\n",
       "                                                                                                        name_gdelt  \\\n",
       "name_original_orbis        name_original_gdelt                                                                       \n",
       "A & A Super Market Limited Absa Bank Ltd                                                                 absa bank   \n",
       "                           Absa Group                                                                   absa group   \n",
       "                           Afghanistan Analysts Network                               afghanistan analysts network   \n",
       "                           Africa Center                                                             africa center   \n",
       "                           Africa Department Of International Relations  africa department international relations   \n",
       "\n",
       "                                                                         index_y  \\\n",
       "name_original_orbis        name_original_gdelt                                     \n",
       "A & A Super Market Limited Absa Bank Ltd                                     230   \n",
       "                           Absa Group                                        230   \n",
       "                           Afghanistan Analysts Network                      230   \n",
       "                           Africa Center                                     230   \n",
       "                           Africa Department Of International Relations      230   \n",
       "\n",
       "                                                                                         name_orbis  \\\n",
       "name_original_orbis        name_original_gdelt                                                        \n",
       "A & A Super Market Limited Absa Bank Ltd                                 a & a super market limited   \n",
       "                           Absa Group                                    a & a super market limited   \n",
       "                           Afghanistan Analysts Network                  a & a super market limited   \n",
       "                           Africa Center                                 a & a super market limited   \n",
       "                           Africa Department Of International Relations  a & a super market limited   \n",
       "\n",
       "                                                                             name_clean_orbis  \\\n",
       "name_original_orbis        name_original_gdelt                                                  \n",
       "A & A Super Market Limited Absa Bank Ltd                                 super market limited   \n",
       "                           Absa Group                                    super market limited   \n",
       "                           Afghanistan Analysts Network                  super market limited   \n",
       "                           Africa Center                                 super market limited   \n",
       "                           Africa Department Of International Relations  super market limited   \n",
       "\n",
       "                                                                         fuzz_ratio  \\\n",
       "name_original_orbis        name_original_gdelt                                        \n",
       "A & A Super Market Limited Absa Bank Ltd                                         28   \n",
       "                           Absa Group                                            20   \n",
       "                           Afghanistan Analysts Network                          25   \n",
       "                           Africa Center                                         30   \n",
       "                           Africa Department Of International Relations          33   \n",
       "\n",
       "                                                                         fuzz_partial_ratio  \\\n",
       "name_original_orbis        name_original_gdelt                                                \n",
       "A & A Super Market Limited Absa Bank Ltd                                                 33   \n",
       "                           Absa Group                                                    20   \n",
       "                           Afghanistan Analysts Network                                  30   \n",
       "                           Africa Center                                                 38   \n",
       "                           Africa Department Of International Relations                  45   \n",
       "\n",
       "                                                                         fuzz_token_sort_ratio  \\\n",
       "name_original_orbis        name_original_gdelt                                                   \n",
       "A & A Super Market Limited Absa Bank Ltd                                                    21   \n",
       "                           Absa Group                                                       27   \n",
       "                           Afghanistan Analysts Network                                     33   \n",
       "                           Africa Center                                                    36   \n",
       "                           Africa Department Of International Relations                     33   \n",
       "\n",
       "                                                                         jaro_distance  \\\n",
       "name_original_orbis        name_original_gdelt                                           \n",
       "A & A Super Market Limited Absa Bank Ltd                                      0.464815   \n",
       "                           Absa Group                                         0.522222   \n",
       "                           Afghanistan Analysts Network                       0.442328   \n",
       "                           Africa Center                                      0.534249   \n",
       "                           Africa Department Of International Relations       0.605081   \n",
       "\n",
       "                                                                        metaphone_unclean_orbis  \\\n",
       "name_original_orbis        name_original_gdelt                                                    \n",
       "A & A Super Market Limited Absa Bank Ltd                                     A  A SPR MRKT LMTT   \n",
       "                           Absa Group                                        A  A SPR MRKT LMTT   \n",
       "                           Afghanistan Analysts Network                      A  A SPR MRKT LMTT   \n",
       "                           Africa Center                                     A  A SPR MRKT LMTT   \n",
       "                           Africa Department Of International Relations      A  A SPR MRKT LMTT   \n",
       "\n",
       "                                                                         ...  \\\n",
       "name_original_orbis        name_original_gdelt                           ...   \n",
       "A & A Super Market Limited Absa Bank Ltd                                 ...   \n",
       "                           Absa Group                                    ...   \n",
       "                           Afghanistan Analysts Network                  ...   \n",
       "                           Africa Center                                 ...   \n",
       "                           Africa Department Of International Relations  ...   \n",
       "\n",
       "                                                                        r_index_x  \\\n",
       "name_original_orbis        name_original_gdelt                                      \n",
       "A & A Super Market Limited Absa Bank Ltd                                      NaN   \n",
       "                           Absa Group                                         NaN   \n",
       "                           Afghanistan Analysts Network                       NaN   \n",
       "                           Africa Center                                      NaN   \n",
       "                           Africa Department Of International Relations       NaN   \n",
       "\n",
       "                                                                        l_name_clean_x  \\\n",
       "name_original_orbis        name_original_gdelt                                           \n",
       "A & A Super Market Limited Absa Bank Ltd                                           NaN   \n",
       "                           Absa Group                                              NaN   \n",
       "                           Afghanistan Analysts Network                            NaN   \n",
       "                           Africa Center                                           NaN   \n",
       "                           Africa Department Of International Relations            NaN   \n",
       "\n",
       "                                                                         r_name_gdelt_x  \\\n",
       "name_original_orbis        name_original_gdelt                                            \n",
       "A & A Super Market Limited Absa Bank Ltd                                            NaN   \n",
       "                           Absa Group                                               NaN   \n",
       "                           Afghanistan Analysts Network                             NaN   \n",
       "                           Africa Center                                            NaN   \n",
       "                           Africa Department Of International Relations             NaN   \n",
       "\n",
       "                                                                         sim_score_overlap  \\\n",
       "name_original_orbis        name_original_gdelt                                               \n",
       "A & A Super Market Limited Absa Bank Ltd                                               NaN   \n",
       "                           Absa Group                                                  NaN   \n",
       "                           Afghanistan Analysts Network                                NaN   \n",
       "                           Africa Center                                               NaN   \n",
       "                           Africa Department Of International Relations                NaN   \n",
       "\n",
       "                                                                         _id_y  \\\n",
       "name_original_orbis        name_original_gdelt                                   \n",
       "A & A Super Market Limited Absa Bank Ltd                                   NaN   \n",
       "                           Absa Group                                      NaN   \n",
       "                           Afghanistan Analysts Network                    NaN   \n",
       "                           Africa Center                                   NaN   \n",
       "                           Africa Department Of International Relations    NaN   \n",
       "\n",
       "                                                                         l_index_y  \\\n",
       "name_original_orbis        name_original_gdelt                                       \n",
       "A & A Super Market Limited Absa Bank Ltd                                       NaN   \n",
       "                           Absa Group                                          NaN   \n",
       "                           Afghanistan Analysts Network                        NaN   \n",
       "                           Africa Center                                       NaN   \n",
       "                           Africa Department Of International Relations        NaN   \n",
       "\n",
       "                                                                         r_index_y  \\\n",
       "name_original_orbis        name_original_gdelt                                       \n",
       "A & A Super Market Limited Absa Bank Ltd                                       NaN   \n",
       "                           Absa Group                                          NaN   \n",
       "                           Afghanistan Analysts Network                        NaN   \n",
       "                           Africa Center                                       NaN   \n",
       "                           Africa Department Of International Relations        NaN   \n",
       "\n",
       "                                                                         l_name_clean_y  \\\n",
       "name_original_orbis        name_original_gdelt                                            \n",
       "A & A Super Market Limited Absa Bank Ltd                                            NaN   \n",
       "                           Absa Group                                               NaN   \n",
       "                           Afghanistan Analysts Network                             NaN   \n",
       "                           Africa Center                                            NaN   \n",
       "                           Africa Department Of International Relations             NaN   \n",
       "\n",
       "                                                                         r_name_gdelt_y  \\\n",
       "name_original_orbis        name_original_gdelt                                            \n",
       "A & A Super Market Limited Absa Bank Ltd                                            NaN   \n",
       "                           Absa Group                                               NaN   \n",
       "                           Afghanistan Analysts Network                             NaN   \n",
       "                           Africa Center                                            NaN   \n",
       "                           Africa Department Of International Relations             NaN   \n",
       "\n",
       "                                                                        sim_score_overlap_coefficient  \n",
       "name_original_orbis        name_original_gdelt                                                         \n",
       "A & A Super Market Limited Absa Bank Ltd                                                          NaN  \n",
       "                           Absa Group                                                             NaN  \n",
       "                           Afghanistan Analysts Network                                           NaN  \n",
       "                           Africa Center                                                          NaN  \n",
       "                           Africa Department Of International Relations                           NaN  \n",
       "\n",
       "[5 rows x 52 columns]"
      ]
     },
     "execution_count": 26,
     "metadata": {},
     "output_type": "execute_result"
    }
   ],
   "source": [
    "try:\n",
    "    indata = data\n",
    "except:\n",
    "    indata = pd.read_csv('./output/matches_raw.csv')\n",
    "    indata.drop(columns=['Unnamed: 0'], inplace=True)\n",
    "\n",
    "\n",
    "#Sort match data in a multindex and sort by name and score.\n",
    "df_sorted = indata.set_index(['name_original_orbis', 'name_original_gdelt'])\n",
    "df_sorted = df_sorted.sort_values(by=['name_original_orbis', \n",
    "                                      'fuzz_ratio', \n",
    "                                      'fuzz_partial_ratio', \n",
    "                                      'fuzz_token_sort_ratio'], \n",
    "                                  ascending=False)\n",
    "df_sorted = df_sorted.sort_index()\n",
    "\n",
    "df_sorted.to_csv('./output/matches_sorted.csv')\n",
    "\n",
    "try:\n",
    "    df_sorted\n",
    "except:\n",
    "    indata = pd.read_csv('./output/matches_sorted.csv')\n",
    "    df_sorted = indata.set_index(['name_original_orbis', 'name_original_gdelt'])\n",
    "\n",
    "df_sorted.head()"
   ]
  },
  {
   "cell_type": "code",
   "execution_count": 27,
   "metadata": {},
   "outputs": [
    {
     "name": "stderr",
     "output_type": "stream",
     "text": [
      "C:\\Users\\hp\\AppData\\Local\\Temp\\ipykernel_21872\\4078977853.py:30: SettingWithCopyWarning: \n",
      "A value is trying to be set on a copy of a slice from a DataFrame.\n",
      "Try using .loc[row_indexer,col_indexer] = value instead\n",
      "\n",
      "See the caveats in the documentation: https://pandas.pydata.org/pandas-docs/stable/user_guide/indexing.html#returning-a-view-versus-a-copy\n",
      "  df_scored['fuzz_similarity'] = (2 * df_scored['fuzz_partial_ratio'] * df_scored['fuzz_token_sort_ratio']) / (df_scored['fuzz_partial_ratio'] + df_scored['fuzz_token_sort_ratio'])\n",
      "C:\\Users\\hp\\AppData\\Local\\Temp\\ipykernel_21872\\4078977853.py:33: SettingWithCopyWarning: \n",
      "A value is trying to be set on a copy of a slice from a DataFrame.\n",
      "Try using .loc[row_indexer,col_indexer] = value instead\n",
      "\n",
      "See the caveats in the documentation: https://pandas.pydata.org/pandas-docs/stable/user_guide/indexing.html#returning-a-view-versus-a-copy\n",
      "  df_scored['total_score_name'] = df_scored['fuzz_ratio'] + df_scored['fuzz_partial_ratio'] + df_scored['fuzz_token_sort_ratio']\n",
      "C:\\Users\\hp\\AppData\\Local\\Temp\\ipykernel_21872\\4078977853.py:34: SettingWithCopyWarning: \n",
      "A value is trying to be set on a copy of a slice from a DataFrame.\n",
      "Try using .loc[row_indexer,col_indexer] = value instead\n",
      "\n",
      "See the caveats in the documentation: https://pandas.pydata.org/pandas-docs/stable/user_guide/indexing.html#returning-a-view-versus-a-copy\n",
      "  df_scored['total_score_metaphone'] = df_scored['metaphone_fuzz_ratio'] + df_scored['metaphone_fuzz_partial_ratio'] + df_scored['metaphone_fuzz_token_sort_ratio']\n"
     ]
    }
   ],
   "source": [
    "# Just in case we want to look at the df\n",
    "# we should have the columns in a nice order.\n",
    "\n",
    "df_unscored = df_sorted[[\n",
    "    # 'acronym_gdelt', \n",
    "    # 'freq_gdelt', \n",
    "    'fuzz_ratio', \n",
    "    'fuzz_partial_ratio', \n",
    "    'fuzz_token_sort_ratio', \n",
    "    'jaro_distance', \n",
    "    'metaphone_unclean_orbis', \n",
    "    'metaphone_clean_orbis', \n",
    "    'metaphone_gdelt',\n",
    "    'metaphone_jaro_distance',\n",
    "    'metaphone_fuzz_ratio',\n",
    "    'metaphone_fuzz_partial_ratio',\n",
    "    'metaphone_fuzz_token_sort_ratio',\n",
    "    'sim_score_distance',\n",
    "    'sim_score_jaccard',\n",
    "    'sim_score_cosine',\n",
    "    'sim_score_dice',\n",
    "    'sim_score_overlap',\n",
    "    'sim_score_overlap_coefficient',\n",
    "]]\n",
    "\n",
    "df_scored = df_unscored\n",
    "\n",
    "# An approach called \"fuzz similarity\"\n",
    "# https://www.analyticsinsight.net/company-names-standardization-using-a-fuzzy-nlp-approach/\n",
    "df_scored['fuzz_similarity'] = (2 * df_scored['fuzz_partial_ratio'] * df_scored['fuzz_token_sort_ratio']) / (df_scored['fuzz_partial_ratio'] + df_scored['fuzz_token_sort_ratio'])\n",
    "\n",
    "# Cumulative scores.\n",
    "df_scored['total_score_name'] = df_scored['fuzz_ratio'] + df_scored['fuzz_partial_ratio'] + df_scored['fuzz_token_sort_ratio']\n",
    "df_scored['total_score_metaphone'] = df_scored['metaphone_fuzz_ratio'] + df_scored['metaphone_fuzz_partial_ratio'] + df_scored['metaphone_fuzz_token_sort_ratio']\n",
    "\n",
    "# Save progress here to allow fast manipulation of matching below.\n",
    "df_matches = df_scored\n"
   ]
  },
  {
   "cell_type": "code",
   "execution_count": 28,
   "metadata": {},
   "outputs": [
    {
     "name": "stderr",
     "output_type": "stream",
     "text": [
      "C:\\Users\\hp\\AppData\\Local\\Temp\\ipykernel_21872\\3402759453.py:4: SettingWithCopyWarning: \n",
      "A value is trying to be set on a copy of a slice from a DataFrame.\n",
      "Try using .loc[row_indexer,col_indexer] = value instead\n",
      "\n",
      "See the caveats in the documentation: https://pandas.pydata.org/pandas-docs/stable/user_guide/indexing.html#returning-a-view-versus-a-copy\n",
      "  df_scored['fuzz_similarity'] = (2 * df_scored['fuzz_partial_ratio'] * df_scored['fuzz_token_sort_ratio']) / (df_scored['fuzz_partial_ratio'] + df_scored['fuzz_token_sort_ratio'])\n",
      "C:\\Users\\hp\\AppData\\Local\\Temp\\ipykernel_21872\\3402759453.py:7: SettingWithCopyWarning: \n",
      "A value is trying to be set on a copy of a slice from a DataFrame.\n",
      "Try using .loc[row_indexer,col_indexer] = value instead\n",
      "\n",
      "See the caveats in the documentation: https://pandas.pydata.org/pandas-docs/stable/user_guide/indexing.html#returning-a-view-versus-a-copy\n",
      "  df_scored['total_score_name'] = df_scored['fuzz_ratio'] + df_scored['fuzz_partial_ratio'] + df_scored['fuzz_token_sort_ratio']\n",
      "C:\\Users\\hp\\AppData\\Local\\Temp\\ipykernel_21872\\3402759453.py:8: SettingWithCopyWarning: \n",
      "A value is trying to be set on a copy of a slice from a DataFrame.\n",
      "Try using .loc[row_indexer,col_indexer] = value instead\n",
      "\n",
      "See the caveats in the documentation: https://pandas.pydata.org/pandas-docs/stable/user_guide/indexing.html#returning-a-view-versus-a-copy\n",
      "  df_scored['total_score_metaphone'] = df_scored['metaphone_fuzz_ratio'] + df_scored['metaphone_fuzz_partial_ratio'] + df_scored['metaphone_fuzz_token_sort_ratio']\n"
     ]
    }
   ],
   "source": [
    "df_scored = df_unscored\n",
    "# An approach called \"fuzz similarity\"\n",
    "# https://www.analyticsinsight.net/company-names-standardization-using-a-fuzzy-nlp-approach/\n",
    "df_scored['fuzz_similarity'] = (2 * df_scored['fuzz_partial_ratio'] * df_scored['fuzz_token_sort_ratio']) / (df_scored['fuzz_partial_ratio'] + df_scored['fuzz_token_sort_ratio'])\n",
    "\n",
    "# Cumulative scores.\n",
    "df_scored['total_score_name'] = df_scored['fuzz_ratio'] + df_scored['fuzz_partial_ratio'] + df_scored['fuzz_token_sort_ratio']\n",
    "df_scored['total_score_metaphone'] = df_scored['metaphone_fuzz_ratio'] + df_scored['metaphone_fuzz_partial_ratio'] + df_scored['metaphone_fuzz_token_sort_ratio']"
   ]
  },
  {
   "cell_type": "code",
   "execution_count": 21,
   "metadata": {},
   "outputs": [],
   "source": [
    "df_matches = df_scored"
   ]
  },
  {
   "cell_type": "code",
   "execution_count": 29,
   "metadata": {},
   "outputs": [],
   "source": [
    "# Filter matches.\n",
    "df_matches = df_matches[((df_matches['total_score_name'] > 280.0) & (df_matches['jaro_distance'] > 0.9))]\n",
    "df_matches.to_csv('./output/matches_filtered.csv')\n"
   ]
  },
  {
   "cell_type": "code",
   "execution_count": 23,
   "metadata": {},
   "outputs": [],
   "source": [
    "try:\n",
    "    indata = df_matches\n",
    "except:\n",
    "    indata = pd.read_csv('./output/matches_filtered.csv')\n",
    "    indata = indata.set_index(['name_original_orbis', 'name_original_gdelt'])"
   ]
  },
  {
   "cell_type": "code",
   "execution_count": 25,
   "metadata": {},
   "outputs": [],
   "source": [
    "# Clean up the final output.\n",
    "dataout = indata[['fuzz_similarity', \n",
    "                  'total_score_name', \n",
    "                  'total_score_metaphone', \n",
    "                #   'freq_gdelt', \n",
    "                  'jaro_distance', \n",
    "                  'metaphone_jaro_distance', \n",
    "                  'sim_score_distance',\n",
    "                  'sim_score_jaccard',\n",
    "                  'sim_score_cosine',\n",
    "                  'sim_score_dice',\n",
    "                  'sim_score_overlap',\n",
    "                  'sim_score_overlap_coefficient',\n",
    "                 ]]"
   ]
  },
  {
   "cell_type": "code",
   "execution_count": 26,
   "metadata": {},
   "outputs": [],
   "source": [
    "dataout.to_csv('./output/OUTPUT.csv')"
   ]
  },
  {
   "cell_type": "code",
   "execution_count": 27,
   "metadata": {},
   "outputs": [
    {
     "data": {
      "text/html": [
       "<div>\n",
       "<style scoped>\n",
       "    .dataframe tbody tr th:only-of-type {\n",
       "        vertical-align: middle;\n",
       "    }\n",
       "\n",
       "    .dataframe tbody tr th {\n",
       "        vertical-align: top;\n",
       "    }\n",
       "\n",
       "    .dataframe thead th {\n",
       "        text-align: right;\n",
       "    }\n",
       "</style>\n",
       "<table border=\"1\" class=\"dataframe\">\n",
       "  <thead>\n",
       "    <tr style=\"text-align: right;\">\n",
       "      <th></th>\n",
       "      <th></th>\n",
       "      <th>fuzz_similarity</th>\n",
       "      <th>total_score_name</th>\n",
       "      <th>total_score_metaphone</th>\n",
       "      <th>jaro_distance</th>\n",
       "      <th>metaphone_jaro_distance</th>\n",
       "      <th>sim_score_distance</th>\n",
       "      <th>sim_score_distance</th>\n",
       "      <th>sim_score_distance</th>\n",
       "      <th>sim_score_jaccard</th>\n",
       "      <th>sim_score_jaccard</th>\n",
       "      <th>...</th>\n",
       "      <th>sim_score_cosine</th>\n",
       "      <th>sim_score_cosine</th>\n",
       "      <th>sim_score_cosine</th>\n",
       "      <th>sim_score_dice</th>\n",
       "      <th>sim_score_dice</th>\n",
       "      <th>sim_score_dice</th>\n",
       "      <th>sim_score_overlap</th>\n",
       "      <th>sim_score_overlap_coefficient</th>\n",
       "      <th>sim_score_overlap_coefficient</th>\n",
       "      <th>sim_score_overlap_coefficient</th>\n",
       "    </tr>\n",
       "    <tr>\n",
       "      <th>name_original_orbis</th>\n",
       "      <th>name_original_gdelt</th>\n",
       "      <th></th>\n",
       "      <th></th>\n",
       "      <th></th>\n",
       "      <th></th>\n",
       "      <th></th>\n",
       "      <th></th>\n",
       "      <th></th>\n",
       "      <th></th>\n",
       "      <th></th>\n",
       "      <th></th>\n",
       "      <th></th>\n",
       "      <th></th>\n",
       "      <th></th>\n",
       "      <th></th>\n",
       "      <th></th>\n",
       "      <th></th>\n",
       "      <th></th>\n",
       "      <th></th>\n",
       "      <th></th>\n",
       "      <th></th>\n",
       "      <th></th>\n",
       "    </tr>\n",
       "  </thead>\n",
       "  <tbody>\n",
       "  </tbody>\n",
       "</table>\n",
       "<p>0 rows × 21 columns</p>\n",
       "</div>"
      ],
      "text/plain": [
       "Empty DataFrame\n",
       "Columns: [fuzz_similarity, total_score_name, total_score_metaphone, jaro_distance, metaphone_jaro_distance, sim_score_distance, sim_score_distance, sim_score_distance, sim_score_jaccard, sim_score_jaccard, sim_score_jaccard, sim_score_cosine, sim_score_cosine, sim_score_cosine, sim_score_dice, sim_score_dice, sim_score_dice, sim_score_overlap, sim_score_overlap_coefficient, sim_score_overlap_coefficient, sim_score_overlap_coefficient]\n",
       "Index: []\n",
       "\n",
       "[0 rows x 21 columns]"
      ]
     },
     "execution_count": 27,
     "metadata": {},
     "output_type": "execute_result"
    }
   ],
   "source": [
    "dataout"
   ]
  },
  {
   "cell_type": "code",
   "execution_count": null,
   "metadata": {},
   "outputs": [],
   "source": []
  }
 ],
 "metadata": {
  "kernelspec": {
   "display_name": "Python 3.8.10 ('geo')",
   "language": "python",
   "name": "python3"
  },
  "language_info": {
   "codemirror_mode": {
    "name": "ipython",
    "version": 3
   },
   "file_extension": ".py",
   "mimetype": "text/x-python",
   "name": "python",
   "nbconvert_exporter": "python",
   "pygments_lexer": "ipython3",
   "version": "3.8.10"
  },
  "orig_nbformat": 4,
  "vscode": {
   "interpreter": {
    "hash": "349a028e1612fd62137898bcfed7816b368ee15a83d8b1bc73696d559804e081"
   }
  }
 },
 "nbformat": 4,
 "nbformat_minor": 2
}
