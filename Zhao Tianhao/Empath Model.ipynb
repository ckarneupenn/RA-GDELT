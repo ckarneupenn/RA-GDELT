{
 "cells": [
  {
   "cell_type": "code",
   "execution_count": 1,
   "metadata": {},
   "outputs": [],
   "source": [
    "from empath import Empath\n",
    "import matplotlib.pyplot as plt\n",
    "import pandas as pd\n",
    "import re\n",
    "import seaborn as sns\n",
    "from striprtf.striprtf import rtf_to_text\n",
    "from tqdm import tqdm_notebook"
   ]
  },
  {
   "cell_type": "code",
   "execution_count": 2,
   "metadata": {},
   "outputs": [],
   "source": [
    "def main_topic_extract(dic):\n",
    "    test_dict = {k:v for k, v in dic.items() if v > 0}\n",
    "    test_topic = sorted(test_dict.items(), key = lambda kv:(kv[1], kv[0]), reverse = True)\n",
    "    return(test_topic)"
   ]
  },
  {
   "cell_type": "code",
   "execution_count": 3,
   "metadata": {},
   "outputs": [],
   "source": [
    "PAPERS_PATH = \"D:\\\\test_1.csv\""
   ]
  },
  {
   "cell_type": "code",
   "execution_count": 4,
   "metadata": {},
   "outputs": [],
   "source": [
    "data = pd.read_csv(PAPERS_PATH)"
   ]
  },
  {
   "cell_type": "code",
   "execution_count": 5,
   "metadata": {},
   "outputs": [],
   "source": [
    "data_use = pd.DataFrame(data['notes'])"
   ]
  },
  {
   "cell_type": "code",
   "execution_count": 6,
   "metadata": {},
   "outputs": [],
   "source": [
    "lexicon = Empath()"
   ]
  },
  {
   "cell_type": "code",
   "execution_count": 7,
   "metadata": {},
   "outputs": [],
   "source": [
    "data_use['topic'] = data_use['notes'].apply(lambda x: lexicon.analyze(x, normalize=True))"
   ]
  },
  {
   "cell_type": "code",
   "execution_count": 8,
   "metadata": {},
   "outputs": [],
   "source": [
    "data_use['topic'] = data_use['topic'].apply(main_topic_extract)"
   ]
  },
  {
   "cell_type": "code",
   "execution_count": 9,
   "metadata": {},
   "outputs": [
    {
     "data": {
      "text/html": [
       "<div>\n",
       "<style scoped>\n",
       "    .dataframe tbody tr th:only-of-type {\n",
       "        vertical-align: middle;\n",
       "    }\n",
       "\n",
       "    .dataframe tbody tr th {\n",
       "        vertical-align: top;\n",
       "    }\n",
       "\n",
       "    .dataframe thead th {\n",
       "        text-align: right;\n",
       "    }\n",
       "</style>\n",
       "<table border=\"1\" class=\"dataframe\">\n",
       "  <thead>\n",
       "    <tr style=\"text-align: right;\">\n",
       "      <th></th>\n",
       "      <th>notes</th>\n",
       "      <th>topic</th>\n",
       "    </tr>\n",
       "  </thead>\n",
       "  <tbody>\n",
       "    <tr>\n",
       "      <th>0</th>\n",
       "      <td>On 13 May 2022, an unidentified Palestinian ar...</td>\n",
       "      <td>[(weapon, 0.05), (war, 0.0375), (military, 0.0...</td>\n",
       "    </tr>\n",
       "    <tr>\n",
       "      <th>1</th>\n",
       "      <td>On 13 May 2022, Israeli police forces severely...</td>\n",
       "      <td>[(violence, 0.024691358024691357), (negative_e...</td>\n",
       "    </tr>\n",
       "    <tr>\n",
       "      <th>2</th>\n",
       "      <td>Land seizure: On 13 May 2022, Israeli settlers...</td>\n",
       "      <td>[(urban, 0.037037037037037035), (rural, 0.0370...</td>\n",
       "    </tr>\n",
       "    <tr>\n",
       "      <th>3</th>\n",
       "      <td>On 13 May 2022, an Israeli soldier shot and in...</td>\n",
       "      <td>[(weapon, 0.05660377358490566), (medical_emerg...</td>\n",
       "    </tr>\n",
       "    <tr>\n",
       "      <th>4</th>\n",
       "      <td>On 13 May 2022, Palestinian rioters clashed wi...</td>\n",
       "      <td>[(pain, 0.05454545454545454), (weakness, 0.018...</td>\n",
       "    </tr>\n",
       "  </tbody>\n",
       "</table>\n",
       "</div>"
      ],
      "text/plain": [
       "                                               notes  \\\n",
       "0  On 13 May 2022, an unidentified Palestinian ar...   \n",
       "1  On 13 May 2022, Israeli police forces severely...   \n",
       "2  Land seizure: On 13 May 2022, Israeli settlers...   \n",
       "3  On 13 May 2022, an Israeli soldier shot and in...   \n",
       "4  On 13 May 2022, Palestinian rioters clashed wi...   \n",
       "\n",
       "                                               topic  \n",
       "0  [(weapon, 0.05), (war, 0.0375), (military, 0.0...  \n",
       "1  [(violence, 0.024691358024691357), (negative_e...  \n",
       "2  [(urban, 0.037037037037037035), (rural, 0.0370...  \n",
       "3  [(weapon, 0.05660377358490566), (medical_emerg...  \n",
       "4  [(pain, 0.05454545454545454), (weakness, 0.018...  "
      ]
     },
     "execution_count": 9,
     "metadata": {},
     "output_type": "execute_result"
    }
   ],
   "source": [
    "data_use.head()"
   ]
  },
  {
   "cell_type": "code",
   "execution_count": 10,
   "metadata": {},
   "outputs": [
    {
     "data": {
      "text/html": [
       "<div>\n",
       "<style scoped>\n",
       "    .dataframe tbody tr th:only-of-type {\n",
       "        vertical-align: middle;\n",
       "    }\n",
       "\n",
       "    .dataframe tbody tr th {\n",
       "        vertical-align: top;\n",
       "    }\n",
       "\n",
       "    .dataframe thead th {\n",
       "        text-align: right;\n",
       "    }\n",
       "</style>\n",
       "<table border=\"1\" class=\"dataframe\">\n",
       "  <thead>\n",
       "    <tr style=\"text-align: right;\">\n",
       "      <th></th>\n",
       "      <th>Unnamed: 0</th>\n",
       "      <th>notes</th>\n",
       "      <th>topic</th>\n",
       "    </tr>\n",
       "  </thead>\n",
       "  <tbody>\n",
       "    <tr>\n",
       "      <th>0</th>\n",
       "      <td>0</td>\n",
       "      <td>On 13 May 2022, an unidentified Palestinian ar...</td>\n",
       "      <td>[('weapon', 0.05), ('war', 0.0375), ('military...</td>\n",
       "    </tr>\n",
       "    <tr>\n",
       "      <th>1</th>\n",
       "      <td>1</td>\n",
       "      <td>On 13 May 2022, Israeli police forces severely...</td>\n",
       "      <td>[('violence', 0.024691358024691357), ('negativ...</td>\n",
       "    </tr>\n",
       "    <tr>\n",
       "      <th>2</th>\n",
       "      <td>2</td>\n",
       "      <td>Land seizure: On 13 May 2022, Israeli settlers...</td>\n",
       "      <td>[('urban', 0.037037037037037035), ('rural', 0....</td>\n",
       "    </tr>\n",
       "    <tr>\n",
       "      <th>3</th>\n",
       "      <td>3</td>\n",
       "      <td>On 13 May 2022, an Israeli soldier shot and in...</td>\n",
       "      <td>[('weapon', 0.05660377358490566), ('medical_em...</td>\n",
       "    </tr>\n",
       "    <tr>\n",
       "      <th>4</th>\n",
       "      <td>4</td>\n",
       "      <td>On 13 May 2022, Palestinian rioters clashed wi...</td>\n",
       "      <td>[('pain', 0.05454545454545454), ('weakness', 0...</td>\n",
       "    </tr>\n",
       "  </tbody>\n",
       "</table>\n",
       "</div>"
      ],
      "text/plain": [
       "   Unnamed: 0                                              notes  \\\n",
       "0           0  On 13 May 2022, an unidentified Palestinian ar...   \n",
       "1           1  On 13 May 2022, Israeli police forces severely...   \n",
       "2           2  Land seizure: On 13 May 2022, Israeli settlers...   \n",
       "3           3  On 13 May 2022, an Israeli soldier shot and in...   \n",
       "4           4  On 13 May 2022, Palestinian rioters clashed wi...   \n",
       "\n",
       "                                               topic  \n",
       "0  [('weapon', 0.05), ('war', 0.0375), ('military...  \n",
       "1  [('violence', 0.024691358024691357), ('negativ...  \n",
       "2  [('urban', 0.037037037037037035), ('rural', 0....  \n",
       "3  [('weapon', 0.05660377358490566), ('medical_em...  \n",
       "4  [('pain', 0.05454545454545454), ('weakness', 0...  "
      ]
     },
     "execution_count": 10,
     "metadata": {},
     "output_type": "execute_result"
    }
   ],
   "source": [
    "data_tobe_process = pd.read_csv('D:\\\\out_Empath.csv')\n",
    "data_tobe_process.head()"
   ]
  },
  {
   "cell_type": "code",
   "execution_count": 24,
   "metadata": {},
   "outputs": [
    {
     "name": "stdout",
     "output_type": "stream",
     "text": [
      "violence\n"
     ]
    }
   ],
   "source": [
    "print(data_tobe_process['topic'][1].split(')')[1].split(',')[0].split('(')[1][1:-1])"
   ]
  },
  {
   "cell_type": "code",
   "execution_count": 31,
   "metadata": {},
   "outputs": [
    {
     "data": {
      "text/plain": [
       "'negative_emotion'"
      ]
     },
     "execution_count": 31,
     "metadata": {},
     "output_type": "execute_result"
    }
   ],
   "source": [
    "data_tobe_process['topic'][1].split(')')[1].split(',')[1].split('(')[1][1:-1]"
   ]
  },
  {
   "cell_type": "code",
   "execution_count": 12,
   "metadata": {},
   "outputs": [
    {
     "data": {
      "text/plain": [
       "\", ('celebration', 0.025\""
      ]
     },
     "execution_count": 12,
     "metadata": {},
     "output_type": "execute_result"
    }
   ],
   "source": [
    "data_tobe_process['topic'][0].split(')')[4]"
   ]
  },
  {
   "cell_type": "code",
   "execution_count": null,
   "metadata": {},
   "outputs": [],
   "source": []
  },
  {
   "cell_type": "code",
   "execution_count": null,
   "metadata": {},
   "outputs": [],
   "source": []
  },
  {
   "cell_type": "code",
   "execution_count": null,
   "metadata": {},
   "outputs": [],
   "source": []
  }
 ],
 "metadata": {
  "kernelspec": {
   "display_name": "Python 3",
   "language": "python",
   "name": "python3"
  },
  "language_info": {
   "codemirror_mode": {
    "name": "ipython",
    "version": 3
   },
   "file_extension": ".py",
   "mimetype": "text/x-python",
   "name": "python",
   "nbconvert_exporter": "python",
   "pygments_lexer": "ipython3",
   "version": "3.6.5"
  }
 },
 "nbformat": 4,
 "nbformat_minor": 2
}
